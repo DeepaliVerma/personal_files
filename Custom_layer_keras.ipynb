{
  "nbformat": 4,
  "nbformat_minor": 0,
  "metadata": {
    "colab": {
      "name": "Custom_layer_keras.ipynb",
      "provenance": [],
      "authorship_tag": "ABX9TyM+/AOkAn0IS1rRyTL0kG1f",
      "include_colab_link": true
    },
    "kernelspec": {
      "name": "python3",
      "display_name": "Python 3"
    },
    "language_info": {
      "name": "python"
    }
  },
  "cells": [
    {
      "cell_type": "markdown",
      "metadata": {
        "id": "view-in-github",
        "colab_type": "text"
      },
      "source": [
        "<a href=\"https://colab.research.google.com/github/DeepaliVerma/personal_files/blob/main/Custom_layer_keras.ipynb\" target=\"_parent\"><img src=\"https://colab.research.google.com/assets/colab-badge.svg\" alt=\"Open In Colab\"/></a>"
      ]
    },
    {
      "cell_type": "code",
      "metadata": {
        "id": "t9GtGmU23dmB"
      },
      "source": [
        "import os\n",
        "os.environ[\"TF_CPP_MIN_LOG_LEVEL\"] = \"2\"\n",
        "import tensorflow as tf\n",
        "from tensorflow import keras\n",
        "from tensorflow.keras import layers\n",
        "from tensorflow.keras.datasets import mnist"
      ],
      "execution_count": 1,
      "outputs": []
    },
    {
      "cell_type": "code",
      "metadata": {
        "colab": {
          "base_uri": "https://localhost:8080/"
        },
        "id": "bMeHX5Bv3kY5",
        "outputId": "40ded240-1e98-469c-984d-25acd26b7e5d"
      },
      "source": [
        "(x_train, y_train), (x_test, y_test) = mnist.load_data()\n",
        "x_train = x_train.reshape(-1, 28*28).astype(\"float32\")/255.0\n",
        "x_test = x_test.reshape(-1, 28*28).astype(\"float32\")/255.0"
      ],
      "execution_count": 2,
      "outputs": [
        {
          "output_type": "stream",
          "name": "stdout",
          "text": [
            "Downloading data from https://storage.googleapis.com/tensorflow/tf-keras-datasets/mnist.npz\n",
            "11493376/11490434 [==============================] - 0s 0us/step\n",
            "11501568/11490434 [==============================] - 0s 0us/step\n"
          ]
        }
      ]
    },
    {
      "cell_type": "code",
      "metadata": {
        "id": "Th7IPoEB3pOA"
      },
      "source": [
        "#class without input tensor shape need build function\n",
        "#method1\n",
        "class Dense(layers.Layer):\n",
        "  def __init__(self, units):\n",
        "    super(Dense, self).__init__()\n",
        "    self.units = units\n",
        "\n",
        "\n",
        "  def call(self, inputs):\n",
        "    return tf.matmul(inputs, self.w) + self.b\n",
        "\n",
        "  def build(self, input_shape):\n",
        "    self.w = self.add_weight(\n",
        "        name='w',\n",
        "        shape=(input_shape[-1], self.units),\n",
        "        initializer='random_normal',\n",
        "        trainable=True,\n",
        "    )\n",
        "\n",
        "    self.b = self.add_weight(name='b', shape=(self.units,), initializer='zeros', trainable=True,)\n"
      ],
      "execution_count": 4,
      "outputs": []
    },
    {
      "cell_type": "code",
      "metadata": {
        "id": "3dW_xQBU3rra"
      },
      "source": [
        "#Method2\n",
        "#class with input tensor\n",
        "class Dense(layers.Layer):\n",
        "  def __init__(self, units, input_dim):\n",
        "    super(Dense, self).__init__()\n",
        "    self.w = self.add_weight(\n",
        "        name='w',\n",
        "        shape=(input_dim, units),\n",
        "        initializer='random_normal',\n",
        "        trainable=True,\n",
        "    )\n",
        "\n",
        "    self.b = self.add_weight(name='b', shape=(units,), initializer='zeros', trainable=True,)\n",
        "\n",
        "  def call(self, inputs):\n",
        "    return tf.matmul(inputs, self.w) + self.b\n",
        "\n"
      ],
      "execution_count": 5,
      "outputs": []
    },
    {
      "cell_type": "code",
      "metadata": {
        "id": "bEcxud2V5iEe"
      },
      "source": [
        "#customize relu\n",
        "class MyReLU(layers.Layer):\n",
        "  def __init__(self):\n",
        "    super(MyReLU, self).__init__()\n",
        "\n",
        "  def call(self, x):\n",
        "    return tf.math.maximum(x,0)\n",
        "    "
      ],
      "execution_count": 10,
      "outputs": []
    },
    {
      "cell_type": "code",
      "metadata": {
        "id": "eoBtg_-n312p"
      },
      "source": [
        "#model\n",
        "class MyModel(keras.Model):\n",
        "  def __init__(self, num_classes=10):\n",
        "    super(MyModel, self).__init__()\n",
        "    #new dense layer function\n",
        "    # self.dense1 = Dense(64, 784)\n",
        "    # self.dense2 = Dense(10,64)\n",
        "\n",
        "    #keras dense layer\n",
        "    self.dense1 = layers.Dense(64)\n",
        "    self.dense2 = layers.Dense(num_classes)\n",
        "    self.relu = MyReLU()\n",
        "\n",
        "  def call(self, input_tensor):\n",
        "    # x=tf.nn.relu(self.dense1(input_tensor))\n",
        "    x = self.relu(self.dense1(input_tensor))\n",
        "    return self.dense2(x)\n"
      ],
      "execution_count": 11,
      "outputs": []
    },
    {
      "cell_type": "code",
      "metadata": {
        "colab": {
          "base_uri": "https://localhost:8080/"
        },
        "id": "X0djVlYt35ch",
        "outputId": "0f8608ae-99b9-4e5d-e341-1ab52a02cc7d"
      },
      "source": [
        "model = MyModel()\n",
        "# model.summary()\n",
        "model.compile(\n",
        "    loss=keras.losses.SparseCategoricalCrossentropy(from_logits=True),\n",
        "    optimizer=keras.optimizers.Adam(),\n",
        "    metrics=[\"accuracy\"],\n",
        ")\n",
        "\n",
        "model.fit(x_train, y_train, batch_size=32, epochs=2, verbose=2)\n",
        "model.evaluate(x_test, y_test, batch_size=32, verbose=2)"
      ],
      "execution_count": 12,
      "outputs": [
        {
          "output_type": "stream",
          "name": "stdout",
          "text": [
            "Epoch 1/2\n",
            "1875/1875 - 3s - loss: 0.3104 - accuracy: 0.9138 - 3s/epoch - 2ms/step\n",
            "Epoch 2/2\n",
            "1875/1875 - 3s - loss: 0.1506 - accuracy: 0.9568 - 3s/epoch - 2ms/step\n",
            "313/313 - 0s - loss: 0.1309 - accuracy: 0.9610 - 435ms/epoch - 1ms/step\n"
          ]
        },
        {
          "output_type": "execute_result",
          "data": {
            "text/plain": [
              "[0.13089624047279358, 0.9610000252723694]"
            ]
          },
          "metadata": {},
          "execution_count": 12
        }
      ]
    },
    {
      "cell_type": "code",
      "metadata": {
        "id": "HDS27YhB37fg"
      },
      "source": [
        ""
      ],
      "execution_count": null,
      "outputs": []
    }
  ]
}