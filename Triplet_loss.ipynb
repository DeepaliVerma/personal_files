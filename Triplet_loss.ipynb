{
  "nbformat": 4,
  "nbformat_minor": 0,
  "metadata": {
    "colab": {
      "name": "Triplet loss.ipynb",
      "provenance": [],
      "authorship_tag": "ABX9TyObRmW5OWOa7vYoMoEnKPbo",
      "include_colab_link": true
    },
    "kernelspec": {
      "name": "python3",
      "display_name": "Python 3"
    },
    "language_info": {
      "name": "python"
    }
  },
  "cells": [
    {
      "cell_type": "markdown",
      "metadata": {
        "id": "view-in-github",
        "colab_type": "text"
      },
      "source": [
        "<a href=\"https://colab.research.google.com/github/DeepaliVerma/personal_files/blob/main/Triplet_loss.ipynb\" target=\"_parent\"><img src=\"https://colab.research.google.com/assets/colab-badge.svg\" alt=\"Open In Colab\"/></a>"
      ]
    },
    {
      "cell_type": "markdown",
      "metadata": {
        "id": "c1KguRJQPIhh"
      },
      "source": [
        "https://github.com/mwray/Joint-Part-of-Speech-Embeddings/blob/c61eaabcda68051782e417e605f35163256c50a6/src/datasets/__init__.py#L11"
      ]
    },
    {
      "cell_type": "code",
      "metadata": {
        "id": "SPsGKtNNMmNW"
      },
      "source": [
        "def to_tensor(arr, gpu=False):\n",
        "    tensor = th.tensor(arr).float()\n",
        "    if gpu:\n",
        "        return tensor.cuda()\n",
        "    return tensor"
      ],
      "execution_count": 2,
      "outputs": []
    },
    {
      "cell_type": "code",
      "metadata": {
        "colab": {
          "base_uri": "https://localhost:8080/"
        },
        "id": "YO4c5V6-MFLZ",
        "outputId": "16cfcfde-06e5-49b1-b788-c5579dcf4c06"
      },
      "source": [
        "\n",
        "  \n",
        "import os\n",
        "import sys\n",
        "import numpy as np\n",
        "import torch as th\n",
        "import torch.nn as nn\n",
        "import torch.nn.functional as F\n",
        "# from datasets import to_tensor\n",
        "\n",
        "class TripletLoss(nn.Module):\n",
        "    \"\"\"\n",
        "    Basic triplet loss which calculates the distance between an query and its\n",
        "    positive and negative examples.\n",
        "    \"\"\"\n",
        "    def __init__(self, margin, weight, reduction='mean'):\n",
        "        \"\"\"\n",
        "        Inputs:\n",
        "        - margin: value to use as the margin (lower bound between positive and\n",
        "          negative distances).\n",
        "        - weight: the weight for this triplet loss.\n",
        "        - reduction: ['mean', 'sum', 'none'] what reduction to use on the final\n",
        "          loss calculation.\n",
        "        \"\"\"\n",
        "        super(TripletLoss, self).__init__()\n",
        "        self.margin = margin\n",
        "        self.weight = weight\n",
        "        assert reduction in {'mean', 'sum', 'none'}\n",
        "        if reduction == 'mean':\n",
        "            self.reduction = lambda x: x.mean()\n",
        "        elif reduction == 'sum':\n",
        "            self.reduction = lambda x: x.sum()\n",
        "        elif reduction == 'none':\n",
        "            self.reduction = lambda x: x\n",
        "\n",
        "    def forward(self, x, pos, neg):\n",
        "        d_pos = (x - pos).pow(2).sum(1)\n",
        "        d_neg = (x - neg).pow(2).sum(1)\n",
        "        losses =  F.relu(self.margin + d_pos - d_neg)\n",
        "        return self.weight * self.reduction(losses)\n",
        "\n",
        "if __name__ == '__main__':\n",
        "    triplet_loss_m = TripletLoss(0.1, 1.0)\n",
        "    triplet_loss_m_0_1 = TripletLoss(0.1, 0.1)\n",
        "    triplet_loss_s = TripletLoss(0.1, 1.0, 'sum')\n",
        "    triplet_loss_n = TripletLoss(0.1, 1.0, 'none')\n",
        "\n",
        "  \n",
        "    xs = to_tensor(np.random.rand(64, 256))\n",
        "    pos = to_tensor(np.random.rand(64, 256))\n",
        "    neg = to_tensor(np.random.rand(64, 256))\n",
        "\n",
        "    loss_m = triplet_loss_m(xs, pos, neg)\n",
        "    print('loss_m', loss_m)\n",
        "    loss_m_0_1 = triplet_loss_m_0_1(xs, pos, neg)\n",
        "    print('loss_m_0_1', loss_m_0_1)\n",
        "    loss_s = triplet_loss_s(xs, pos, neg)\n",
        "    print('loss_s', loss_s)\n",
        "    loss_n = triplet_loss_n(xs, pos, neg)\n",
        "    print('loss_n', loss_n)\n",
        "\n",
        "    assert 0.1 * loss_m == loss_m_0_1\n",
        "\n",
        "    assert loss_n.mean() == loss_m\n",
        "    assert loss_n.sum() == loss_s\n",
        "\n",
        "    assert loss_m.shape == loss_s.shape\n",
        "    assert loss_n.shape == th.Size([64])\n",
        "    assert loss_m.shape == th.Size([])"
      ],
      "execution_count": 4,
      "outputs": [
        {
          "output_type": "stream",
          "name": "stdout",
          "text": [
            "loss_m tensor(2.4947)\n",
            "loss_m_0_1 tensor(0.2495)\n",
            "loss_s tensor(159.6580)\n",
            "loss_n tensor([ 0.0000,  5.8548,  4.6150,  5.7829,  0.0000,  0.0000,  7.1419,  0.3733,\n",
            "         4.5315,  7.1971,  0.0000,  7.4257,  2.2678,  0.0000,  0.5463,  0.0000,\n",
            "         0.0000,  0.0000,  2.9221,  4.4218,  0.0000,  0.5164,  5.9862,  5.0754,\n",
            "         0.0000,  3.4822,  1.4580,  0.0000,  3.5472,  0.0000,  0.0000,  6.4927,\n",
            "         6.4324,  0.0000,  4.0880,  0.0000,  9.4118,  6.7432,  0.0000,  0.2434,\n",
            "         4.2728,  0.0000,  2.0297,  0.0000,  0.0000,  8.1881, 10.1981,  4.7316,\n",
            "         2.0447,  1.6367,  2.5601,  0.0000,  6.7503,  0.0530,  0.0000,  0.0000,\n",
            "         1.8621,  0.0000,  0.0000,  0.0000,  0.0000,  4.7693,  4.0045,  0.0000])\n"
          ]
        }
      ]
    },
    {
      "cell_type": "code",
      "metadata": {
        "id": "9yTb_1-JMKCq"
      },
      "source": [
        ""
      ],
      "execution_count": null,
      "outputs": []
    },
    {
      "cell_type": "code",
      "metadata": {
        "id": "esS-45mgPCeQ"
      },
      "source": [
        "# extra functions\n",
        "def sample_triplets(anchor_idxs, x_to_class_dict, class_to_y_dict, num_triplets, sampling_method='random'):\n",
        "    assert sampling_method in {'random'}\n",
        "    if sampling_method == 'random':\n",
        "        return sample_random_triplets(anchor_idxs, x_to_class_dict, class_to_y_dict, num_triplets)\n",
        "\n",
        "def sample_random_triplets(anchor_idxs, x_to_class_dict, class_to_y_dict, num_triplets):\n",
        "    classes = set(class_to_y_dict.keys())\n",
        "    from tqdm import tqdm\n",
        "    pos_idxs = []\n",
        "    neg_idxs = []\n",
        "    for anchor in tqdm(anchor_idxs):\n",
        "        pos_class = x_to_class_dict[anchor]\n",
        "        pos_idxs.append(sample_n(class_to_y_dict, [pos_class], num_triplets))\n",
        "        neg_classes = list(classes - set([pos_class]))\n",
        "        neg_idxs.append(sample_n(class_to_y_dict, neg_classes, num_triplets))\n",
        "    pos_idxs = np.array(pos_idxs)\n",
        "    neg_idxs = np.array(neg_idxs)\n",
        "    return pos_idxs, neg_idxs"
      ],
      "execution_count": null,
      "outputs": []
    }
  ]
}