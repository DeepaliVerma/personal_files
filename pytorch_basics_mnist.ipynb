{
  "nbformat": 4,
  "nbformat_minor": 0,
  "metadata": {
    "colab": {
      "name": "pytorch basics.ipynb",
      "provenance": [],
      "collapsed_sections": [],
      "authorship_tag": "ABX9TyPsf9zojz1IyAwSNar11TQI",
      "include_colab_link": true
    },
    "kernelspec": {
      "name": "python3",
      "display_name": "Python 3"
    },
    "language_info": {
      "name": "python"
    }
  },
  "cells": [
    {
      "cell_type": "markdown",
      "metadata": {
        "id": "view-in-github",
        "colab_type": "text"
      },
      "source": [
        "<a href=\"https://colab.research.google.com/github/DeepaliVerma/personal_files/blob/main/pytorch_basics_mnist.ipynb\" target=\"_parent\"><img src=\"https://colab.research.google.com/assets/colab-badge.svg\" alt=\"Open In Colab\"/></a>"
      ]
    },
    {
      "cell_type": "markdown",
      "metadata": {
        "id": "x63Xg0Jk6P_Q"
      },
      "source": [
        "#Basics"
      ]
    },
    {
      "cell_type": "code",
      "metadata": {
        "id": "heHUCqdyOBhp"
      },
      "source": [
        "import torch"
      ],
      "execution_count": null,
      "outputs": []
    },
    {
      "cell_type": "code",
      "metadata": {
        "id": "_hpKWsNRNny9"
      },
      "source": [
        "x= torch.tensor(3.)\n",
        "w= torch.tensor(4., requires_grad= True)\n",
        "b= torch.tensor(5., requires_grad= True)"
      ],
      "execution_count": null,
      "outputs": []
    },
    {
      "cell_type": "code",
      "metadata": {
        "colab": {
          "base_uri": "https://localhost:8080/"
        },
        "id": "fndD0NSvN6tH",
        "outputId": "5d25378d-f33f-4c2a-914d-1440c9dda618"
      },
      "source": [
        "#arithmetc operations\n",
        "y= w *x + b\n",
        "y"
      ],
      "execution_count": null,
      "outputs": [
        {
          "output_type": "execute_result",
          "data": {
            "text/plain": [
              "tensor(17., grad_fn=<AddBackward0>)"
            ]
          },
          "metadata": {},
          "execution_count": 10
        }
      ]
    },
    {
      "cell_type": "code",
      "metadata": {
        "colab": {
          "base_uri": "https://localhost:8080/"
        },
        "id": "x02A3Bm2N_ug",
        "outputId": "7a7d26c1-ba46-4a1c-d3c4-165f14323712"
      },
      "source": [
        "y.backward()\n",
        "y"
      ],
      "execution_count": null,
      "outputs": [
        {
          "output_type": "execute_result",
          "data": {
            "text/plain": [
              "tensor(17., grad_fn=<AddBackward0>)"
            ]
          },
          "metadata": {},
          "execution_count": 11
        }
      ]
    },
    {
      "cell_type": "code",
      "metadata": {
        "colab": {
          "base_uri": "https://localhost:8080/"
        },
        "id": "nQeOUQUNOQZA",
        "outputId": "a512f891-18d5-4e07-9b30-d50d58c2189e"
      },
      "source": [
        "#display gradient\n",
        "print('dy/dx:', x.grad)\n",
        "print('dy/dw:', w.grad)\n",
        "print('dy/db:', b.grad)"
      ],
      "execution_count": null,
      "outputs": [
        {
          "output_type": "stream",
          "name": "stdout",
          "text": [
            "dy/dx: None\n",
            "dy/dw: tensor(6.)\n",
            "dy/db: tensor(2.)\n"
          ]
        }
      ]
    },
    {
      "cell_type": "markdown",
      "metadata": {
        "id": "ud2371gtOy6L"
      },
      "source": [
        "Interoperability with Numpy"
      ]
    },
    {
      "cell_type": "code",
      "metadata": {
        "colab": {
          "base_uri": "https://localhost:8080/"
        },
        "id": "BzIzV1hAOcSx",
        "outputId": "a11e90b5-ef1d-4068-b93d-985183002ffd"
      },
      "source": [
        "import numpy as np\n",
        "\n",
        "x = np.array([[1,2], [3,4]])\n",
        "x"
      ],
      "execution_count": null,
      "outputs": [
        {
          "output_type": "execute_result",
          "data": {
            "text/plain": [
              "array([[1, 2],\n",
              "       [3, 4]])"
            ]
          },
          "metadata": {},
          "execution_count": 15
        }
      ]
    },
    {
      "cell_type": "code",
      "metadata": {
        "colab": {
          "base_uri": "https://localhost:8080/"
        },
        "id": "_wFEI-yfPDOY",
        "outputId": "ea494d85-8eac-42da-aef1-a894b4a31003"
      },
      "source": [
        "#convert numpy to torch   # use same space in memory no created a copy\n",
        "y = torch.from_numpy(x)\n",
        "y"
      ],
      "execution_count": null,
      "outputs": [
        {
          "output_type": "execute_result",
          "data": {
            "text/plain": [
              "tensor([[1, 2],\n",
              "        [3, 4]])"
            ]
          },
          "metadata": {},
          "execution_count": 17
        }
      ]
    },
    {
      "cell_type": "code",
      "metadata": {
        "colab": {
          "base_uri": "https://localhost:8080/"
        },
        "id": "No26kYx7PNlJ",
        "outputId": "e22d7dae-0d54-4cfa-81d4-9bd15d1132ea"
      },
      "source": [
        "# or   #this method create a copy and \n",
        "y = torch.tensor(x)\n",
        "y"
      ],
      "execution_count": null,
      "outputs": [
        {
          "output_type": "execute_result",
          "data": {
            "text/plain": [
              "tensor([[1, 2],\n",
              "        [3, 4]])"
            ]
          },
          "metadata": {},
          "execution_count": 19
        }
      ]
    },
    {
      "cell_type": "code",
      "metadata": {
        "colab": {
          "base_uri": "https://localhost:8080/"
        },
        "id": "qUEFvx8TQRI4",
        "outputId": "7f1e66c4-1845-4ded-e74c-925340c65ee3"
      },
      "source": [
        "#both have same type\n",
        "x.dtype, y.dtype"
      ],
      "execution_count": null,
      "outputs": [
        {
          "output_type": "execute_result",
          "data": {
            "text/plain": [
              "(dtype('int64'), torch.int64)"
            ]
          },
          "metadata": {},
          "execution_count": 20
        }
      ]
    },
    {
      "cell_type": "code",
      "metadata": {
        "colab": {
          "base_uri": "https://localhost:8080/"
        },
        "id": "Y9FafWmhUAFS",
        "outputId": "6b475435-85cc-484d-eb4a-d8f77271764d"
      },
      "source": [
        "#convert tensor to numpy array\n",
        "z = y.numpy()\n",
        "z"
      ],
      "execution_count": null,
      "outputs": [
        {
          "output_type": "execute_result",
          "data": {
            "text/plain": [
              "array([[1, 2],\n",
              "       [3, 4]])"
            ]
          },
          "metadata": {},
          "execution_count": 21
        }
      ]
    },
    {
      "cell_type": "markdown",
      "metadata": {
        "id": "vKDMmt0BUNOo"
      },
      "source": [
        " \n",
        "\n",
        "\n",
        "*   array/list etc have arbitrary shapes but tensor have regular shape. numpy library are not written for gpu but tensors are made for gpu support\n",
        "*   we need to write code in gpu using programming language CUDA\n",
        "\n"
      ]
    },
    {
      "cell_type": "markdown",
      "metadata": {
        "id": "U4UU2LrRWFug"
      },
      "source": [
        "#basic linear regression"
      ]
    },
    {
      "cell_type": "code",
      "metadata": {
        "id": "HdKsuWR7Yn0C"
      },
      "source": [
        "import torch"
      ],
      "execution_count": null,
      "outputs": []
    },
    {
      "cell_type": "code",
      "metadata": {
        "id": "kw1Khhl2VRHa"
      },
      "source": [
        "#training data\n",
        "import numpy as np\n",
        "inputs = np.array([[73,67,43],\n",
        "                   [91,88,64],\n",
        "                   [87,134,58],\n",
        "                   [102,43,37],\n",
        "                   [69,96,70]], dtype= 'float32') "
      ],
      "execution_count": null,
      "outputs": []
    },
    {
      "cell_type": "code",
      "metadata": {
        "id": "Yeb5QKXRWLlv"
      },
      "source": [
        "#target data\n",
        "targets = np.array([[50,70],\n",
        "                   [91,101],\n",
        "                   [87,134],\n",
        "                   [102,43],\n",
        "                   [69,96]], dtype= 'float32') "
      ],
      "execution_count": null,
      "outputs": []
    },
    {
      "cell_type": "code",
      "metadata": {
        "colab": {
          "base_uri": "https://localhost:8080/"
        },
        "id": "Yo73udY1WM-2",
        "outputId": "a4af4708-f108-4c3a-80e7-850f0a50f527"
      },
      "source": [
        "#Convert input and targets to tensors\n",
        "inputs = torch.from_numpy(inputs)\n",
        "targets = torch.from_numpy(targets)\n",
        "print(inputs, targets)"
      ],
      "execution_count": null,
      "outputs": [
        {
          "output_type": "stream",
          "name": "stdout",
          "text": [
            "tensor([[ 73.,  67.,  43.],\n",
            "        [ 91.,  88.,  64.],\n",
            "        [ 87., 134.,  58.],\n",
            "        [102.,  43.,  37.],\n",
            "        [ 69.,  96.,  70.]]) tensor([[ 50.,  70.],\n",
            "        [ 91., 101.],\n",
            "        [ 87., 134.],\n",
            "        [102.,  43.],\n",
            "        [ 69.,  96.]])\n"
          ]
        }
      ]
    },
    {
      "cell_type": "code",
      "metadata": {
        "colab": {
          "base_uri": "https://localhost:8080/"
        },
        "id": "0lQn98O7YiPA",
        "outputId": "abdf4fb0-2dd0-47db-e244-ac74ede9006a"
      },
      "source": [
        "#weights and biases\n",
        "w = torch.randn(2,3, requires_grad = True)\n",
        "b = torch.randn(2, requires_grad = True)\n",
        "print(w)\n",
        "print(b)"
      ],
      "execution_count": null,
      "outputs": [
        {
          "output_type": "stream",
          "name": "stdout",
          "text": [
            "tensor([[ 0.4717,  0.4866,  0.8017],\n",
            "        [ 0.8214,  1.0803, -0.6343]], requires_grad=True)\n",
            "tensor([-0.4707,  0.4840], requires_grad=True)\n"
          ]
        }
      ]
    },
    {
      "cell_type": "code",
      "metadata": {
        "id": "YUPTW36aZZr2"
      },
      "source": [
        "# linear layer\n",
        "def model(x):\n",
        "  return x @ w.t() + b"
      ],
      "execution_count": null,
      "outputs": []
    },
    {
      "cell_type": "code",
      "metadata": {
        "colab": {
          "base_uri": "https://localhost:8080/"
        },
        "id": "t1AjZg8nZ84Z",
        "outputId": "034957da-e6ed-41d1-a7bc-b10a286bfc6f"
      },
      "source": [
        "#generate prediction\n",
        "preds = model(inputs)\n",
        "print(preds)"
      ],
      "execution_count": null,
      "outputs": [
        {
          "output_type": "stream",
          "name": "stdout",
          "text": [
            "tensor([[101.0369, 105.5489],\n",
            "        [136.5811, 129.6992],\n",
            "        [152.2704, 179.9117],\n",
            "        [ 98.2256, 107.2493],\n",
            "        [134.9077, 116.4644]], grad_fn=<AddBackward0>)\n"
          ]
        }
      ]
    },
    {
      "cell_type": "code",
      "metadata": {
        "colab": {
          "base_uri": "https://localhost:8080/"
        },
        "id": "7xU9dYHIaDd7",
        "outputId": "92d52fec-d31f-4f0c-8b92-976c0be86e87"
      },
      "source": [
        "#compare with targets\n",
        "print(targets)"
      ],
      "execution_count": null,
      "outputs": [
        {
          "output_type": "stream",
          "name": "stdout",
          "text": [
            "tensor([[ 50.,  70.],\n",
            "        [ 91., 101.],\n",
            "        [ 87., 134.],\n",
            "        [102.,  43.],\n",
            "        [ 69.,  96.]])\n"
          ]
        }
      ]
    },
    {
      "cell_type": "markdown",
      "metadata": {
        "id": "332S_5kUaPWk"
      },
      "source": [
        "#Loss Function"
      ]
    },
    {
      "cell_type": "code",
      "metadata": {
        "id": "kAA9_yn-aGq6"
      },
      "source": [
        "#MSE loss\n",
        "## step1: difference between two matrics\n",
        "## step2 sq. all elements of the diffrence matrix to remove negative values\n",
        "## calculate average of the elements in resulting matrix\n",
        "def mse(t1, t2):\n",
        "  diff = t1-t2\n",
        "  return torch.sum(diff*diff) / diff.numel()"
      ],
      "execution_count": null,
      "outputs": []
    },
    {
      "cell_type": "code",
      "metadata": {
        "colab": {
          "base_uri": "https://localhost:8080/"
        },
        "id": "bJ0gSIbfa6dM",
        "outputId": "ad8a56ff-2082-4864-91f2-a966e5bd4b2b"
      },
      "source": [
        "#compute loss\n",
        "loss = mse(preds, targets)\n",
        "print(loss)"
      ],
      "execution_count": null,
      "outputs": [
        {
          "output_type": "stream",
          "name": "stdout",
          "text": [
            "tensor(2204.2717, grad_fn=<DivBackward0>)\n"
          ]
        }
      ]
    },
    {
      "cell_type": "code",
      "metadata": {
        "id": "64vHBXDMbNCA"
      },
      "source": [
        "#compute gradients\n",
        "loss.backward()"
      ],
      "execution_count": null,
      "outputs": []
    },
    {
      "cell_type": "code",
      "metadata": {
        "colab": {
          "base_uri": "https://localhost:8080/"
        },
        "id": "Kg_GpMbKNjjY",
        "outputId": "2f313a88-e39e-4121-9771-49fcd4cc1519"
      },
      "source": [
        "#gradients for weights\n",
        "print(w)\n",
        "print(w.grad)"
      ],
      "execution_count": null,
      "outputs": [
        {
          "output_type": "stream",
          "name": "stdout",
          "text": [
            "tensor([[ 0.4717,  0.4866,  0.8017],\n",
            "        [ 0.8214,  1.0803, -0.6343]], requires_grad=True)\n",
            "tensor([[3542.9473, 4468.3359, 2674.2690],\n",
            "        [3433.2979, 3157.3569, 1967.5933]])\n"
          ]
        }
      ]
    },
    {
      "cell_type": "code",
      "metadata": {
        "colab": {
          "base_uri": "https://localhost:8080/"
        },
        "id": "1iOsy-I5NpM2",
        "outputId": "80f71632-93b3-45d9-dbbd-41f39381a811"
      },
      "source": [
        " print(b)\n",
        " print(b.grad)"
      ],
      "execution_count": null,
      "outputs": [
        {
          "output_type": "stream",
          "name": "stdout",
          "text": [
            "tensor([-0.4707,  0.4840], requires_grad=True)\n",
            "tensor([44.8043, 38.9747])\n"
          ]
        }
      ]
    },
    {
      "cell_type": "markdown",
      "metadata": {
        "id": "mkyncbXVOa3S"
      },
      "source": [
        "\n",
        "\n",
        "*   if gradient is positive, \n",
        "  1. increasing the elements value slightly will increase the loss.\n",
        "  2.  decreasing the elements value slightly will decrease the loss\n",
        "*   if gradient is negative,\n",
        "  1. increasing the element value slightly will decrease the loss.\n",
        "  2. decreasing the elements value slightly increase the loss.\n"
      ]
    },
    {
      "cell_type": "code",
      "metadata": {
        "colab": {
          "base_uri": "https://localhost:8080/"
        },
        "id": "LbW5Wqi4N4a5",
        "outputId": "2c17f133-fa95-4b71-d377-5f96d8693ac4"
      },
      "source": [
        " #reset gradient back to zero\n",
        " w.grad.zero_()\n",
        " b.grad.zero_()\n",
        " print(w.grad)\n",
        " print(b.grad)"
      ],
      "execution_count": null,
      "outputs": [
        {
          "output_type": "stream",
          "name": "stdout",
          "text": [
            "tensor([[0., 0., 0.],\n",
            "        [0., 0., 0.]])\n",
            "tensor([0., 0.])\n"
          ]
        }
      ]
    },
    {
      "cell_type": "markdown",
      "metadata": {
        "id": "JN6WnwtoQmsv"
      },
      "source": [
        "#adjust weight and biases using gradient descent\n",
        "1. generate predictions\n",
        "2. calculate the loss\n",
        "3. compute the gradient w.r.t weiht and biases\n",
        "4. adjust the weights by subtracting a small quantity proportional to the gradient\n",
        "5. reset the gradient to zero\n"
      ]
    },
    {
      "cell_type": "code",
      "metadata": {
        "colab": {
          "base_uri": "https://localhost:8080/"
        },
        "id": "icLFUT84QRoM",
        "outputId": "693703c0-8964-4b71-d466-56d1d00f602c"
      },
      "source": [
        "# generate prediction\n",
        "preds = model(inputs)\n",
        "print(preds) "
      ],
      "execution_count": null,
      "outputs": [
        {
          "output_type": "stream",
          "name": "stdout",
          "text": [
            "tensor([[101.0369, 105.5489],\n",
            "        [136.5811, 129.6992],\n",
            "        [152.2704, 179.9117],\n",
            "        [ 98.2256, 107.2493],\n",
            "        [134.9077, 116.4644]], grad_fn=<AddBackward0>)\n"
          ]
        }
      ]
    },
    {
      "cell_type": "code",
      "metadata": {
        "id": "NHdPjL1_S2A2"
      },
      "source": [
        "#adjust weights & reset gradients\n",
        "with torch.no_grad():\n",
        "  w -= w.grad * 1e-5\n",
        "  b -= b.grad * 1e-5\n",
        "  w.grad.zero_()\n",
        "  b.grad.zero_()"
      ],
      "execution_count": null,
      "outputs": []
    },
    {
      "cell_type": "code",
      "metadata": {
        "colab": {
          "base_uri": "https://localhost:8080/"
        },
        "id": "RvZQr52ORHpG",
        "outputId": "78ebb5c1-59c4-482d-9e6b-122b5f55d513"
      },
      "source": [
        "print(w)\n",
        "print(b)"
      ],
      "execution_count": null,
      "outputs": [
        {
          "output_type": "stream",
          "name": "stdout",
          "text": [
            "tensor([[ 0.4717,  0.4866,  0.8017],\n",
            "        [ 0.8214,  1.0803, -0.6343]], requires_grad=True)\n",
            "tensor([-0.4707,  0.4840], requires_grad=True)\n"
          ]
        }
      ]
    },
    {
      "cell_type": "code",
      "metadata": {
        "colab": {
          "base_uri": "https://localhost:8080/"
        },
        "id": "lW6c78a7TUKF",
        "outputId": "dc2fbe96-30a4-4842-981a-e33a92068994"
      },
      "source": [
        "#calculate loss\n",
        "preds = model(inputs)\n",
        "loss = mse(preds, targets)\n",
        "print(loss)"
      ],
      "execution_count": null,
      "outputs": [
        {
          "output_type": "stream",
          "name": "stdout",
          "text": [
            "tensor(2204.2717, grad_fn=<DivBackward0>)\n"
          ]
        }
      ]
    },
    {
      "cell_type": "markdown",
      "metadata": {
        "id": "KKI5fLr8TiaO"
      },
      "source": [
        "#Train for multiple epochs"
      ]
    },
    {
      "cell_type": "code",
      "metadata": {
        "id": "0vmv61j4ThJl"
      },
      "source": [
        "#train for 100 epochs\n",
        "for i in range(100):\n",
        "  preds = model(inputs)\n",
        "  loss = mse(preds, targets)\n",
        "  loss.backward()\n",
        "  with torch.no_grad():\n",
        "    w -= w.grad * 1e-5\n",
        "    b -= b.grad * 1e-5\n",
        "    w.grad.zero_()\n",
        "    b.grad.zero_()"
      ],
      "execution_count": null,
      "outputs": []
    },
    {
      "cell_type": "code",
      "metadata": {
        "colab": {
          "base_uri": "https://localhost:8080/"
        },
        "id": "yaKLNnHSULN1",
        "outputId": "aec9f2ea-4d39-4d3c-e6f8-5ca22cf98b5c"
      },
      "source": [
        "# calculate loss\n",
        "preds = model(inputs)\n",
        "loss = mse(preds, targets)\n",
        "print(loss)"
      ],
      "execution_count": null,
      "outputs": [
        {
          "output_type": "stream",
          "name": "stdout",
          "text": [
            "tensor(183.5369, grad_fn=<DivBackward0>)\n"
          ]
        }
      ]
    },
    {
      "cell_type": "code",
      "metadata": {
        "colab": {
          "base_uri": "https://localhost:8080/"
        },
        "id": "qzcSjqk9UhSV",
        "outputId": "05428f5b-569d-4827-cf12-31e56bbdb299"
      },
      "source": [
        "#predictions\n",
        "print(preds)\n",
        "#Targets\n",
        "print(targets)"
      ],
      "execution_count": null,
      "outputs": [
        {
          "output_type": "stream",
          "name": "stdout",
          "text": [
            "tensor([[ 65.9759,  72.9457],\n",
            "        [ 88.6204,  88.7104],\n",
            "        [ 85.3738, 138.8310],\n",
            "        [ 76.4216,  64.0538],\n",
            "        [ 81.0210,  83.8856]], grad_fn=<AddBackward0>)\n",
            "tensor([[ 50.,  70.],\n",
            "        [ 91., 101.],\n",
            "        [ 87., 134.],\n",
            "        [102.,  43.],\n",
            "        [ 69.,  96.]])\n"
          ]
        }
      ]
    },
    {
      "cell_type": "markdown",
      "metadata": {
        "id": "AKL3rShaoIUc"
      },
      "source": [
        "#Dataset and DataLoader"
      ]
    },
    {
      "cell_type": "code",
      "metadata": {
        "id": "kt5M_shJrGvT"
      },
      "source": [
        "import torch\n",
        "import torch.nn as nn\n",
        "import numpy as np\n",
        "# Input (temp, rainfall, humidity)\n",
        "inputs = np.array([[73, 67, 43], \n",
        "                   [91, 88, 64], \n",
        "                   [87, 134, 58], \n",
        "                   [102, 43, 37], \n",
        "                   [69, 96, 70], \n",
        "                   [74, 66, 43], \n",
        "                   [91, 87, 65], \n",
        "                   [88, 134, 59], \n",
        "                   [101, 44, 37], \n",
        "                   [68, 96, 71], \n",
        "                   [73, 66, 44], \n",
        "                   [92, 87, 64], \n",
        "                   [87, 135, 57], \n",
        "                   [103, 43, 36], \n",
        "                   [68, 97, 70]], \n",
        "                  dtype='float32')\n",
        "\n",
        "# Targets (apples, oranges)\n",
        "targets = np.array([[56, 70], \n",
        "                    [81, 101], \n",
        "                    [119, 133], \n",
        "                    [22, 37], \n",
        "                    [103, 119],\n",
        "                    [57, 69], \n",
        "                    [80, 102], \n",
        "                    [118, 132], \n",
        "                    [21, 38], \n",
        "                    [104, 118], \n",
        "                    [57, 69], \n",
        "                    [82, 100], \n",
        "                    [118, 134], \n",
        "                    [20, 38], \n",
        "                    [102, 120]], \n",
        "                   dtype='float32')\n",
        "\n",
        "inputs = torch.from_numpy(inputs)\n",
        "targets = torch.from_numpy(targets)"
      ],
      "execution_count": null,
      "outputs": []
    },
    {
      "cell_type": "code",
      "metadata": {
        "id": "8X1WK_LEUt65"
      },
      "source": [
        "from torch.utils.data import TensorDataset"
      ],
      "execution_count": null,
      "outputs": []
    },
    {
      "cell_type": "code",
      "metadata": {
        "colab": {
          "base_uri": "https://localhost:8080/"
        },
        "id": "p2YSLZJfoQkF",
        "outputId": "643c127a-a241-4bb4-ca07-c8bef2c03d1e"
      },
      "source": [
        "#Define dataset\n",
        "train_ds = TensorDataset(inputs, targets) #Tensordata allow smaall section of training data using indexing notation\n",
        "train_ds[[1,3,5,7]]"
      ],
      "execution_count": null,
      "outputs": [
        {
          "output_type": "execute_result",
          "data": {
            "text/plain": [
              "(tensor([[ 91.,  88.,  64.],\n",
              "         [102.,  43.,  37.],\n",
              "         [ 74.,  66.,  43.],\n",
              "         [ 88., 134.,  59.]]), tensor([[ 81., 101.],\n",
              "         [ 22.,  37.],\n",
              "         [ 57.,  69.],\n",
              "         [118., 132.]]))"
            ]
          },
          "metadata": {},
          "execution_count": 10
        }
      ]
    },
    {
      "cell_type": "markdown",
      "metadata": {
        "id": "fXok0Jv3pIek"
      },
      "source": [
        "###Why slicing?\n",
        "dataloader split the data into batches of predefined size while training"
      ]
    },
    {
      "cell_type": "code",
      "metadata": {
        "id": "u20Lt7iepHcv"
      },
      "source": [
        "from torch.utils.data import DataLoader"
      ],
      "execution_count": null,
      "outputs": []
    },
    {
      "cell_type": "code",
      "metadata": {
        "id": "DBwHhX7Eoc0O"
      },
      "source": [
        "# Define data Loader\n",
        "batch_size = 5\n",
        "train_dl= DataLoader(train_ds, batch_size, shuffle=True)"
      ],
      "execution_count": null,
      "outputs": []
    },
    {
      "cell_type": "code",
      "metadata": {
        "colab": {
          "base_uri": "https://localhost:8080/"
        },
        "id": "8EUwY57Bpjke",
        "outputId": "1c5cbe23-ca94-41ad-b100-fc01eb8549d1"
      },
      "source": [
        "for xb, yb in train_dl:\n",
        "    print(xb)\n",
        "    print(yb)\n",
        "    break"
      ],
      "execution_count": null,
      "outputs": [
        {
          "output_type": "stream",
          "name": "stdout",
          "text": [
            "tensor([[ 91.,  87.,  65.],\n",
            "        [ 87., 135.,  57.],\n",
            "        [ 91.,  88.,  64.],\n",
            "        [ 74.,  66.,  43.],\n",
            "        [ 88., 134.,  59.]])\n",
            "tensor([[ 80., 102.],\n",
            "        [118., 134.],\n",
            "        [ 81., 101.],\n",
            "        [ 57.,  69.],\n",
            "        [118., 132.]])\n"
          ]
        }
      ]
    },
    {
      "cell_type": "code",
      "metadata": {
        "colab": {
          "base_uri": "https://localhost:8080/"
        },
        "id": "zEXGwNy3rczJ",
        "outputId": "2b56ab22-4406-4820-9cc5-3ba340f48b98"
      },
      "source": [
        "#Model\n",
        "model = nn.Linear(3,2)\n",
        "print(model.weight)\n",
        "print(model.bias)"
      ],
      "execution_count": null,
      "outputs": [
        {
          "output_type": "stream",
          "name": "stdout",
          "text": [
            "Parameter containing:\n",
            "tensor([[ 0.1923,  0.1605,  0.2440],\n",
            "        [-0.3330,  0.5443,  0.1162]], requires_grad=True)\n",
            "Parameter containing:\n",
            "tensor([-0.0518, -0.2067], requires_grad=True)\n"
          ]
        }
      ]
    },
    {
      "cell_type": "code",
      "metadata": {
        "colab": {
          "base_uri": "https://localhost:8080/"
        },
        "id": "vlexKnezruWk",
        "outputId": "288b88a7-c967-497f-c561-2a5f5463bb7f"
      },
      "source": [
        "#parameters\n",
        "list(model.parameters())"
      ],
      "execution_count": null,
      "outputs": [
        {
          "output_type": "execute_result",
          "data": {
            "text/plain": [
              "[Parameter containing:\n",
              " tensor([[ 0.1923,  0.1605,  0.2440],\n",
              "         [-0.3330,  0.5443,  0.1162]], requires_grad=True),\n",
              " Parameter containing:\n",
              " tensor([-0.0518, -0.2067], requires_grad=True)]"
            ]
          },
          "metadata": {},
          "execution_count": 15
        }
      ]
    },
    {
      "cell_type": "code",
      "metadata": {
        "colab": {
          "base_uri": "https://localhost:8080/"
        },
        "id": "3gOA0DeRr937",
        "outputId": "f70ee023-ebc7-4f72-c5e8-7494ab1d7cdf"
      },
      "source": [
        "#generate predictions\n",
        "preds = model(inputs)\n",
        "preds"
      ],
      "execution_count": null,
      "outputs": [
        {
          "output_type": "execute_result",
          "data": {
            "text/plain": [
              "tensor([[35.2366, 16.9517],\n",
              "        [47.1943, 24.8294],\n",
              "        [52.3444, 50.5029],\n",
              "        [35.4976, -6.4666],\n",
              "        [45.7114, 37.2075],\n",
              "        [35.2684, 16.0744],\n",
              "        [47.2778, 24.4013],\n",
              "        [52.7808, 50.2861],\n",
              "        [35.4658, -5.5892],\n",
              "        [45.7631, 37.6567],\n",
              "        [35.3202, 16.5237],\n",
              "        [47.2261, 23.9520],\n",
              "        [52.2609, 50.9310],\n",
              "        [35.4459, -6.9158],\n",
              "        [45.6796, 38.0848]], grad_fn=<AddmmBackward0>)"
            ]
          },
          "metadata": {},
          "execution_count": 16
        }
      ]
    },
    {
      "cell_type": "code",
      "metadata": {
        "id": "zafQF9jNsGaK"
      },
      "source": [
        "#Build in loss function\n",
        "import torch.nn.functional as F"
      ],
      "execution_count": null,
      "outputs": []
    },
    {
      "cell_type": "code",
      "metadata": {
        "id": "9_SOm7wAsUW0"
      },
      "source": [
        "#Define loss function\n",
        "loss_fn = F.mse_loss"
      ],
      "execution_count": null,
      "outputs": []
    },
    {
      "cell_type": "code",
      "metadata": {
        "id": "PTcdfWgxsesy"
      },
      "source": [
        "?F.mse_loss #help window"
      ],
      "execution_count": null,
      "outputs": []
    },
    {
      "cell_type": "code",
      "metadata": {
        "colab": {
          "base_uri": "https://localhost:8080/"
        },
        "id": "ZntmG4inslxC",
        "outputId": "f0fcab37-8250-4f3d-ff14-e29782616d45"
      },
      "source": [
        "loss = loss_fn(model(inputs), targets)\n",
        "print(loss)"
      ],
      "execution_count": null,
      "outputs": [
        {
          "output_type": "stream",
          "name": "stdout",
          "text": [
            "tensor(3343.7019, grad_fn=<MseLossBackward0>)\n"
          ]
        }
      ]
    },
    {
      "cell_type": "markdown",
      "metadata": {
        "id": "rq8Gvv4Rs2GK"
      },
      "source": [
        "##Optimizer"
      ]
    },
    {
      "cell_type": "code",
      "metadata": {
        "id": "lpGhEAJjsxj8"
      },
      "source": [
        "# Define optimizer\n",
        "opt = torch.optim.SGD(model.parameters(), lr = 1e-5)"
      ],
      "execution_count": null,
      "outputs": []
    },
    {
      "cell_type": "markdown",
      "metadata": {
        "id": "kAc6IRdytWMU"
      },
      "source": [
        "###Train the model"
      ]
    },
    {
      "cell_type": "code",
      "metadata": {
        "id": "Y0gHDoB7tYDu"
      },
      "source": [
        "#define utility function fit which train the model for a given number of epochs\n",
        "def fit(num_epochs, model, loss_fn, opt):\n",
        "\n",
        "  #repeat for given number of epochs\n",
        "  for epoch in range(num_epochs):\n",
        "\n",
        "    #Train with batches of data\n",
        "    for xb, yb in train_dl:\n",
        "\n",
        "      #1.Generate predictions\n",
        "      pred = model(xb)\n",
        "\n",
        "      #2.Calculate loss\n",
        "      loss = loss_fn(pred, yb)\n",
        "\n",
        "      #3. compute gradients\n",
        "      loss.backward() \n",
        "\n",
        "      #4. update parameters using gradients\n",
        "      opt.step()\n",
        "\n",
        "      #5. Reset the gradient to zero\n",
        "      opt.zero_grad()\n",
        "\n",
        "    #Print the progress\n",
        "    if (epoch+1) % 10 == 0:\n",
        "      print('Epoch [{}/{}], Loss: {:.4f}'.format(epoch+1, num_epochs, loss.item()))\n"
      ],
      "execution_count": null,
      "outputs": []
    },
    {
      "cell_type": "code",
      "metadata": {
        "colab": {
          "base_uri": "https://localhost:8080/"
        },
        "id": "FC_XLPSxtlqz",
        "outputId": "8baa484c-ced9-4067-ddff-24b65a1d88ca"
      },
      "source": [
        "#train model for 100 epoch\n",
        "fit(100, model, loss_fn, opt)"
      ],
      "execution_count": null,
      "outputs": [
        {
          "output_type": "stream",
          "name": "stdout",
          "text": [
            "Epoch [10/100], Loss: 199.9363\n",
            "Epoch [20/100], Loss: 261.3291\n",
            "Epoch [30/100], Loss: 59.2911\n",
            "Epoch [40/100], Loss: 95.1832\n",
            "Epoch [50/100], Loss: 89.7691\n",
            "Epoch [60/100], Loss: 47.9109\n",
            "Epoch [70/100], Loss: 38.2635\n",
            "Epoch [80/100], Loss: 8.2544\n",
            "Epoch [90/100], Loss: 30.8860\n",
            "Epoch [100/100], Loss: 15.0395\n"
          ]
        }
      ]
    },
    {
      "cell_type": "code",
      "metadata": {
        "colab": {
          "base_uri": "https://localhost:8080/"
        },
        "id": "G5kQoB9z1Cks",
        "outputId": "118822a4-f82d-426c-95ba-b53cfdd7a95e"
      },
      "source": [
        "pred = model(inputs)\n",
        "preds"
      ],
      "execution_count": null,
      "outputs": [
        {
          "output_type": "execute_result",
          "data": {
            "text/plain": [
              "tensor([[35.2366, 16.9517],\n",
              "        [47.1943, 24.8294],\n",
              "        [52.3444, 50.5029],\n",
              "        [35.4976, -6.4666],\n",
              "        [45.7114, 37.2075],\n",
              "        [35.2684, 16.0744],\n",
              "        [47.2778, 24.4013],\n",
              "        [52.7808, 50.2861],\n",
              "        [35.4658, -5.5892],\n",
              "        [45.7631, 37.6567],\n",
              "        [35.3202, 16.5237],\n",
              "        [47.2261, 23.9520],\n",
              "        [52.2609, 50.9310],\n",
              "        [35.4459, -6.9158],\n",
              "        [45.6796, 38.0848]], grad_fn=<AddmmBackward0>)"
            ]
          },
          "metadata": {},
          "execution_count": 30
        }
      ]
    },
    {
      "cell_type": "code",
      "metadata": {
        "colab": {
          "base_uri": "https://localhost:8080/"
        },
        "id": "TLYsKW_R3vJo",
        "outputId": "3c704f6b-bd6c-441a-c6fe-c94822e498bf"
      },
      "source": [
        "targets"
      ],
      "execution_count": null,
      "outputs": [
        {
          "output_type": "execute_result",
          "data": {
            "text/plain": [
              "tensor([[ 56.,  70.],\n",
              "        [ 81., 101.],\n",
              "        [119., 133.],\n",
              "        [ 22.,  37.],\n",
              "        [103., 119.],\n",
              "        [ 57.,  69.],\n",
              "        [ 80., 102.],\n",
              "        [118., 132.],\n",
              "        [ 21.,  38.],\n",
              "        [104., 118.],\n",
              "        [ 57.,  69.],\n",
              "        [ 82., 100.],\n",
              "        [118., 134.],\n",
              "        [ 20.,  38.],\n",
              "        [102., 120.]])"
            ]
          },
          "metadata": {},
          "execution_count": 31
        }
      ]
    },
    {
      "cell_type": "code",
      "metadata": {
        "colab": {
          "base_uri": "https://localhost:8080/"
        },
        "id": "YvwLwyLZ30p6",
        "outputId": "a8b9106d-caf5-46a6-e627-28781ebb0fd2"
      },
      "source": [
        "model(torch.tensor([[75, 63, 44.]]))"
      ],
      "execution_count": null,
      "outputs": [
        {
          "output_type": "execute_result",
          "data": {
            "text/plain": [
              "tensor([[54.8131, 67.3956]], grad_fn=<AddmmBackward0>)"
            ]
          },
          "metadata": {},
          "execution_count": 32
        }
      ]
    },
    {
      "cell_type": "markdown",
      "metadata": {
        "id": "zmQcF-gu6ajn"
      },
      "source": [
        "#Image Classification using Logistic Regression in Pytorch"
      ]
    },
    {
      "cell_type": "code",
      "metadata": {
        "id": "28Pq2tXm5D7n"
      },
      "source": [
        "# Imports\n",
        "import torch\n",
        "import torchvision\n",
        "from torchvision.datasets import MNIST"
      ],
      "execution_count": 24,
      "outputs": []
    },
    {
      "cell_type": "code",
      "metadata": {
        "id": "5o-NqDrT6ZeE"
      },
      "source": [
        "# Download training dataset\n",
        "dataset = MNIST(root='data/', download=True)"
      ],
      "execution_count": 25,
      "outputs": []
    },
    {
      "cell_type": "code",
      "metadata": {
        "colab": {
          "base_uri": "https://localhost:8080/"
        },
        "id": "mobXJi4r7cri",
        "outputId": "425d641e-0013-49b6-bf0d-74ad73be899e"
      },
      "source": [
        "len(dataset)"
      ],
      "execution_count": 26,
      "outputs": [
        {
          "output_type": "execute_result",
          "data": {
            "text/plain": [
              "60000"
            ]
          },
          "metadata": {},
          "execution_count": 26
        }
      ]
    },
    {
      "cell_type": "code",
      "metadata": {
        "colab": {
          "base_uri": "https://localhost:8080/"
        },
        "id": "kUMwbOcq8CJR",
        "outputId": "42e9771a-e0d4-4fd5-f530-b9ebeb155775"
      },
      "source": [
        "test_dataset = MNIST(root='data/', train=False)\n",
        "len(test_dataset)"
      ],
      "execution_count": 27,
      "outputs": [
        {
          "output_type": "execute_result",
          "data": {
            "text/plain": [
              "10000"
            ]
          },
          "metadata": {},
          "execution_count": 27
        }
      ]
    },
    {
      "cell_type": "code",
      "metadata": {
        "colab": {
          "base_uri": "https://localhost:8080/"
        },
        "id": "Yx3Et-qM82BO",
        "outputId": "ce96a7c2-c54e-48cd-887e-9034fef22181"
      },
      "source": [
        "dataset[0]"
      ],
      "execution_count": 28,
      "outputs": [
        {
          "output_type": "execute_result",
          "data": {
            "text/plain": [
              "(<PIL.Image.Image image mode=L size=28x28 at 0x7F5B8A42FC90>, 5)"
            ]
          },
          "metadata": {},
          "execution_count": 28
        }
      ]
    },
    {
      "cell_type": "code",
      "metadata": {
        "id": "t4W6jRJR86Nj"
      },
      "source": [
        "import matplotlib.pyplot as plt\n",
        "%matplotlib inline"
      ],
      "execution_count": 29,
      "outputs": []
    },
    {
      "cell_type": "code",
      "metadata": {
        "colab": {
          "base_uri": "https://localhost:8080/",
          "height": 283
        },
        "id": "ryrUlM0K9FxE",
        "outputId": "908e9925-9a14-403d-dfa2-4f3011365c33"
      },
      "source": [
        "image, label = dataset[0]\n",
        "plt.imshow(image, cmap='gray')\n",
        "print('Label:', label)"
      ],
      "execution_count": 30,
      "outputs": [
        {
          "output_type": "stream",
          "name": "stdout",
          "text": [
            "Label: 5\n"
          ]
        },
        {
          "output_type": "display_data",
          "data": {
            "image/png": "[encoded data removed]",
            "text/plain": [
              "<Figure size 432x288 with 1 Axes>"
            ]
          },
          "metadata": {
            "needs_background": "light"
          }
        }
      ]
    },
    {
      "cell_type": "code",
      "metadata": {
        "colab": {
          "base_uri": "https://localhost:8080/",
          "height": 283
        },
        "id": "jzkTQ5Lj9Kxy",
        "outputId": "59fa48cc-fd88-4e54-b1a0-6a0efe8de4e3"
      },
      "source": [
        "image, label = dataset[10]\n",
        "plt.imshow(image, cmap='gray')\n",
        "print('Label:', label)"
      ],
      "execution_count": 31,
      "outputs": [
        {
          "output_type": "stream",
          "name": "stdout",
          "text": [
            "Label: 3\n"
          ]
        },
        {
          "output_type": "display_data",
          "data": {
            "image/png": "[encoded data removed]",
            "text/plain": [
              "<Figure size 432x288 with 1 Axes>"
            ]
          },
          "metadata": {
            "needs_background": "light"
          }
        }
      ]
    },
    {
      "cell_type": "code",
      "metadata": {
        "id": "azp4KK0h9PDw"
      },
      "source": [
        "import torchvision.transforms as transforms"
      ],
      "execution_count": 32,
      "outputs": []
    },
    {
      "cell_type": "code",
      "metadata": {
        "id": "pkRI-RK_9RXZ"
      },
      "source": [
        "# MNIST dataset (images and labels)\n",
        "dataset = MNIST(root='data/', \n",
        "                train=True,\n",
        "                transform=transforms.ToTensor())"
      ],
      "execution_count": 33,
      "outputs": []
    },
    {
      "cell_type": "code",
      "metadata": {
        "colab": {
          "base_uri": "https://localhost:8080/"
        },
        "id": "PcWCTwZl9ZrZ",
        "outputId": "a05cc392-86a8-4716-d05d-662e5fb9457f"
      },
      "source": [
        "img_tensor, label = dataset[0]\n",
        "print(img_tensor.shape, label)"
      ],
      "execution_count": 34,
      "outputs": [
        {
          "output_type": "stream",
          "name": "stdout",
          "text": [
            "torch.Size([1, 28, 28]) 5\n"
          ]
        }
      ]
    },
    {
      "cell_type": "code",
      "metadata": {
        "colab": {
          "base_uri": "https://localhost:8080/"
        },
        "id": "F0APYae49lKy",
        "outputId": "5c48b602-3160-43ec-9e71-42dc893ba5ab"
      },
      "source": [
        "print(img_tensor[0,10:15,10:15])\n",
        "print(torch.max(img_tensor), torch.min(img_tensor))"
      ],
      "execution_count": 35,
      "outputs": [
        {
          "output_type": "stream",
          "name": "stdout",
          "text": [
            "tensor([[0.0039, 0.6039, 0.9922, 0.3529, 0.0000],\n",
            "        [0.0000, 0.5451, 0.9922, 0.7451, 0.0078],\n",
            "        [0.0000, 0.0431, 0.7451, 0.9922, 0.2745],\n",
            "        [0.0000, 0.0000, 0.1373, 0.9451, 0.8824],\n",
            "        [0.0000, 0.0000, 0.0000, 0.3176, 0.9412]])\n",
            "tensor(1.) tensor(0.)\n"
          ]
        }
      ]
    },
    {
      "cell_type": "code",
      "metadata": {
        "colab": {
          "base_uri": "https://localhost:8080/",
          "height": 265
        },
        "id": "DzL8ceL79uBf",
        "outputId": "79d79345-c37e-46f4-c520-48d6f51c432d"
      },
      "source": [
        "# Plot the image by passing in the 28x28 matrix\n",
        "plt.imshow(img_tensor[0,10:15,10:15], cmap='gray');"
      ],
      "execution_count": 36,
      "outputs": [
        {
          "output_type": "display_data",
          "data": {
            "image/png": "[encoded data removed]",
            "text/plain": [
              "<Figure size 432x288 with 1 Axes>"
            ]
          },
          "metadata": {
            "needs_background": "light"
          }
        }
      ]
    },
    {
      "cell_type": "code",
      "metadata": {
        "colab": {
          "base_uri": "https://localhost:8080/"
        },
        "id": "q5RFCbQq90BY",
        "outputId": "ef1c1f6f-e618-489d-a615-cf7ada2151fe"
      },
      "source": [
        "#Training and Validation Datasets\n",
        "from torch.utils.data import random_split\n",
        "\n",
        "train_ds, val_ds = random_split(dataset, [50000, 10000])\n",
        "len(train_ds), len(val_ds)"
      ],
      "execution_count": 37,
      "outputs": [
        {
          "output_type": "execute_result",
          "data": {
            "text/plain": [
              "(50000, 10000)"
            ]
          },
          "metadata": {},
          "execution_count": 37
        }
      ]
    },
    {
      "cell_type": "code",
      "metadata": {
        "id": "_1Dhy8-H-FI5"
      },
      "source": [
        "from torch.utils.data import DataLoader\n",
        "\n",
        "batch_size = 128\n",
        "\n",
        "train_loader = DataLoader(train_ds, batch_size, shuffle=True)\n",
        "val_loader = DataLoader(val_ds, batch_size)"
      ],
      "execution_count": 38,
      "outputs": []
    },
    {
      "cell_type": "code",
      "metadata": {
        "id": "p8-XlgGX-QhF"
      },
      "source": [
        "import torch.nn as nn\n",
        "\n",
        "input_size = 28*28\n",
        "num_classes = 10\n",
        "\n",
        "# Logistic regression model\n",
        "model = nn.Linear(input_size, num_classes)"
      ],
      "execution_count": 39,
      "outputs": []
    },
    {
      "cell_type": "code",
      "metadata": {
        "colab": {
          "base_uri": "https://localhost:8080/"
        },
        "id": "tFMGz541_D51",
        "outputId": "22aa9d58-91b6-4e46-88ad-1ecd8e011753"
      },
      "source": [
        "print(model.weight.shape)\n",
        "model.weight"
      ],
      "execution_count": 40,
      "outputs": [
        {
          "output_type": "stream",
          "name": "stdout",
          "text": [
            "torch.Size([10, 784])\n"
          ]
        },
        {
          "output_type": "execute_result",
          "data": {
            "text/plain": [
              "Parameter containing:\n",
              "tensor([[ 0.0279, -0.0106, -0.0244,  ..., -0.0334, -0.0297, -0.0214],\n",
              "        [-0.0107, -0.0087,  0.0196,  ...,  0.0041,  0.0179,  0.0261],\n",
              "        [-0.0126, -0.0042,  0.0094,  ..., -0.0203,  0.0057,  0.0045],\n",
              "        ...,\n",
              "        [ 0.0116, -0.0344, -0.0331,  ...,  0.0125, -0.0196, -0.0161],\n",
              "        [-0.0261, -0.0122,  0.0174,  ...,  0.0223, -0.0004,  0.0351],\n",
              "        [-0.0086,  0.0097, -0.0156,  ...,  0.0089, -0.0066, -0.0151]],\n",
              "       requires_grad=True)"
            ]
          },
          "metadata": {},
          "execution_count": 40
        }
      ]
    },
    {
      "cell_type": "code",
      "metadata": {
        "id": "WnaUS2Qp_GXy"
      },
      "source": [
        "import torch.nn as nn\n",
        "\n",
        "input_size = 28*28\n",
        "num_classes = 10\n",
        "\n",
        "#Logistic regression model\n",
        "model = nn.Linear(input_size, num_classes)"
      ],
      "execution_count": 41,
      "outputs": []
    },
    {
      "cell_type": "code",
      "metadata": {
        "colab": {
          "base_uri": "https://localhost:8080/"
        },
        "id": "npZM4soBgfZQ",
        "outputId": "1ee0b7a1-4242-4aa9-e85d-6c4ace4ec17f"
      },
      "source": [
        "print(model.weight.shape)\n",
        "model.weight"
      ],
      "execution_count": 42,
      "outputs": [
        {
          "output_type": "stream",
          "name": "stdout",
          "text": [
            "torch.Size([10, 784])\n"
          ]
        },
        {
          "output_type": "execute_result",
          "data": {
            "text/plain": [
              "Parameter containing:\n",
              "tensor([[ 0.0290,  0.0103, -0.0248,  ...,  0.0089,  0.0266, -0.0318],\n",
              "        [-0.0049,  0.0301,  0.0064,  ..., -0.0108, -0.0121,  0.0057],\n",
              "        [ 0.0337,  0.0278,  0.0235,  ..., -0.0273, -0.0230,  0.0250],\n",
              "        ...,\n",
              "        [ 0.0202,  0.0083, -0.0062,  ...,  0.0312, -0.0023,  0.0244],\n",
              "        [ 0.0288,  0.0327,  0.0138,  ..., -0.0337, -0.0058,  0.0323],\n",
              "        [-0.0215,  0.0110,  0.0057,  ...,  0.0063, -0.0261, -0.0208]],\n",
              "       requires_grad=True)"
            ]
          },
          "metadata": {},
          "execution_count": 42
        }
      ]
    },
    {
      "cell_type": "code",
      "metadata": {
        "colab": {
          "base_uri": "https://localhost:8080/"
        },
        "id": "3yyRbdJFgkUG",
        "outputId": "3b7168c5-e62c-4205-b099-0c661e11b29e"
      },
      "source": [
        "print(model.bias.shape)"
      ],
      "execution_count": 43,
      "outputs": [
        {
          "output_type": "stream",
          "name": "stdout",
          "text": [
            "torch.Size([10])\n"
          ]
        }
      ]
    },
    {
      "cell_type": "code",
      "metadata": {
        "colab": {
          "base_uri": "https://localhost:8080/",
          "height": 510
        },
        "id": "8MIxZz9WgpNj",
        "outputId": "9ee7a64a-64b7-402f-a73a-dea733bcd263"
      },
      "source": [
        "#we will take 100 images from our dataset and pass them into the model\n",
        "for images, labels in train_loader:\n",
        "  print(labels)\n",
        "  print(images.shape)\n",
        "  outputs = model(images)\n",
        "  break"
      ],
      "execution_count": 44,
      "outputs": [
        {
          "output_type": "stream",
          "name": "stdout",
          "text": [
            "tensor([8, 2, 5, 1, 0, 9, 3, 3, 3, 1, 1, 4, 9, 9, 6, 1, 3, 0, 9, 8, 7, 6, 2, 3,\n",
            "        5, 0, 1, 0, 1, 0, 5, 9, 5, 3, 9, 0, 3, 6, 5, 8, 4, 6, 2, 7, 0, 2, 4, 1,\n",
            "        1, 9, 5, 8, 6, 5, 4, 9, 2, 8, 5, 2, 7, 4, 0, 6, 2, 2, 8, 6, 0, 2, 4, 2,\n",
            "        0, 1, 6, 9, 3, 7, 4, 5, 3, 1, 4, 1, 4, 5, 4, 3, 8, 2, 3, 9, 7, 2, 7, 8,\n",
            "        1, 6, 5, 1, 4, 6, 9, 3, 7, 3, 8, 5, 1, 4, 0, 2, 5, 9, 6, 8, 1, 8, 1, 8,\n",
            "        7, 1, 7, 3, 4, 7, 8, 0])\n",
            "torch.Size([128, 1, 28, 28])\n"
          ]
        },
        {
          "output_type": "error",
          "ename": "RuntimeError",
          "evalue": "ignored",
          "traceback": [
            "\u001b[0;31m---------------------------------------------------------------------------\u001b[0m",
            "\u001b[0;31mRuntimeError\u001b[0m                              Traceback (most recent call last)",
            "\u001b[0;32m<ipython-input-44-e09519bcf112>\u001b[0m in \u001b[0;36m<module>\u001b[0;34m()\u001b[0m\n\u001b[1;32m      3\u001b[0m   \u001b[0mprint\u001b[0m\u001b[0;34m(\u001b[0m\u001b[0mlabels\u001b[0m\u001b[0;34m)\u001b[0m\u001b[0;34m\u001b[0m\u001b[0;34m\u001b[0m\u001b[0m\n\u001b[1;32m      4\u001b[0m   \u001b[0mprint\u001b[0m\u001b[0;34m(\u001b[0m\u001b[0mimages\u001b[0m\u001b[0;34m.\u001b[0m\u001b[0mshape\u001b[0m\u001b[0;34m)\u001b[0m\u001b[0;34m\u001b[0m\u001b[0;34m\u001b[0m\u001b[0m\n\u001b[0;32m----> 5\u001b[0;31m   \u001b[0moutputs\u001b[0m \u001b[0;34m=\u001b[0m \u001b[0mmodel\u001b[0m\u001b[0;34m(\u001b[0m\u001b[0mimages\u001b[0m\u001b[0;34m)\u001b[0m\u001b[0;34m\u001b[0m\u001b[0;34m\u001b[0m\u001b[0m\n\u001b[0m\u001b[1;32m      6\u001b[0m   \u001b[0;32mbreak\u001b[0m\u001b[0;34m\u001b[0m\u001b[0;34m\u001b[0m\u001b[0m\n",
            "\u001b[0;32m/usr/local/lib/python3.7/dist-packages/torch/nn/modules/module.py\u001b[0m in \u001b[0;36m_call_impl\u001b[0;34m(self, *input, **kwargs)\u001b[0m\n\u001b[1;32m   1100\u001b[0m         if not (self._backward_hooks or self._forward_hooks or self._forward_pre_hooks or _global_backward_hooks\n\u001b[1;32m   1101\u001b[0m                 or _global_forward_hooks or _global_forward_pre_hooks):\n\u001b[0;32m-> 1102\u001b[0;31m             \u001b[0;32mreturn\u001b[0m \u001b[0mforward_call\u001b[0m\u001b[0;34m(\u001b[0m\u001b[0;34m*\u001b[0m\u001b[0minput\u001b[0m\u001b[0;34m,\u001b[0m \u001b[0;34m**\u001b[0m\u001b[0mkwargs\u001b[0m\u001b[0;34m)\u001b[0m\u001b[0;34m\u001b[0m\u001b[0;34m\u001b[0m\u001b[0m\n\u001b[0m\u001b[1;32m   1103\u001b[0m         \u001b[0;31m# Do not call functions when jit is used\u001b[0m\u001b[0;34m\u001b[0m\u001b[0;34m\u001b[0m\u001b[0;34m\u001b[0m\u001b[0m\n\u001b[1;32m   1104\u001b[0m         \u001b[0mfull_backward_hooks\u001b[0m\u001b[0;34m,\u001b[0m \u001b[0mnon_full_backward_hooks\u001b[0m \u001b[0;34m=\u001b[0m \u001b[0;34m[\u001b[0m\u001b[0;34m]\u001b[0m\u001b[0;34m,\u001b[0m \u001b[0;34m[\u001b[0m\u001b[0;34m]\u001b[0m\u001b[0;34m\u001b[0m\u001b[0;34m\u001b[0m\u001b[0m\n",
            "\u001b[0;32m/usr/local/lib/python3.7/dist-packages/torch/nn/modules/linear.py\u001b[0m in \u001b[0;36mforward\u001b[0;34m(self, input)\u001b[0m\n\u001b[1;32m    101\u001b[0m \u001b[0;34m\u001b[0m\u001b[0m\n\u001b[1;32m    102\u001b[0m     \u001b[0;32mdef\u001b[0m \u001b[0mforward\u001b[0m\u001b[0;34m(\u001b[0m\u001b[0mself\u001b[0m\u001b[0;34m,\u001b[0m \u001b[0minput\u001b[0m\u001b[0;34m:\u001b[0m \u001b[0mTensor\u001b[0m\u001b[0;34m)\u001b[0m \u001b[0;34m->\u001b[0m \u001b[0mTensor\u001b[0m\u001b[0;34m:\u001b[0m\u001b[0;34m\u001b[0m\u001b[0;34m\u001b[0m\u001b[0m\n\u001b[0;32m--> 103\u001b[0;31m         \u001b[0;32mreturn\u001b[0m \u001b[0mF\u001b[0m\u001b[0;34m.\u001b[0m\u001b[0mlinear\u001b[0m\u001b[0;34m(\u001b[0m\u001b[0minput\u001b[0m\u001b[0;34m,\u001b[0m \u001b[0mself\u001b[0m\u001b[0;34m.\u001b[0m\u001b[0mweight\u001b[0m\u001b[0;34m,\u001b[0m \u001b[0mself\u001b[0m\u001b[0;34m.\u001b[0m\u001b[0mbias\u001b[0m\u001b[0;34m)\u001b[0m\u001b[0;34m\u001b[0m\u001b[0;34m\u001b[0m\u001b[0m\n\u001b[0m\u001b[1;32m    104\u001b[0m \u001b[0;34m\u001b[0m\u001b[0m\n\u001b[1;32m    105\u001b[0m     \u001b[0;32mdef\u001b[0m \u001b[0mextra_repr\u001b[0m\u001b[0;34m(\u001b[0m\u001b[0mself\u001b[0m\u001b[0;34m)\u001b[0m \u001b[0;34m->\u001b[0m \u001b[0mstr\u001b[0m\u001b[0;34m:\u001b[0m\u001b[0;34m\u001b[0m\u001b[0;34m\u001b[0m\u001b[0m\n",
            "\u001b[0;32m/usr/local/lib/python3.7/dist-packages/torch/nn/functional.py\u001b[0m in \u001b[0;36mlinear\u001b[0;34m(input, weight, bias)\u001b[0m\n\u001b[1;32m   1846\u001b[0m     \u001b[0;32mif\u001b[0m \u001b[0mhas_torch_function_variadic\u001b[0m\u001b[0;34m(\u001b[0m\u001b[0minput\u001b[0m\u001b[0;34m,\u001b[0m \u001b[0mweight\u001b[0m\u001b[0;34m,\u001b[0m \u001b[0mbias\u001b[0m\u001b[0;34m)\u001b[0m\u001b[0;34m:\u001b[0m\u001b[0;34m\u001b[0m\u001b[0;34m\u001b[0m\u001b[0m\n\u001b[1;32m   1847\u001b[0m         \u001b[0;32mreturn\u001b[0m \u001b[0mhandle_torch_function\u001b[0m\u001b[0;34m(\u001b[0m\u001b[0mlinear\u001b[0m\u001b[0;34m,\u001b[0m \u001b[0;34m(\u001b[0m\u001b[0minput\u001b[0m\u001b[0;34m,\u001b[0m \u001b[0mweight\u001b[0m\u001b[0;34m,\u001b[0m \u001b[0mbias\u001b[0m\u001b[0;34m)\u001b[0m\u001b[0;34m,\u001b[0m \u001b[0minput\u001b[0m\u001b[0;34m,\u001b[0m \u001b[0mweight\u001b[0m\u001b[0;34m,\u001b[0m \u001b[0mbias\u001b[0m\u001b[0;34m=\u001b[0m\u001b[0mbias\u001b[0m\u001b[0;34m)\u001b[0m\u001b[0;34m\u001b[0m\u001b[0;34m\u001b[0m\u001b[0m\n\u001b[0;32m-> 1848\u001b[0;31m     \u001b[0;32mreturn\u001b[0m \u001b[0mtorch\u001b[0m\u001b[0;34m.\u001b[0m\u001b[0m_C\u001b[0m\u001b[0;34m.\u001b[0m\u001b[0m_nn\u001b[0m\u001b[0;34m.\u001b[0m\u001b[0mlinear\u001b[0m\u001b[0;34m(\u001b[0m\u001b[0minput\u001b[0m\u001b[0;34m,\u001b[0m \u001b[0mweight\u001b[0m\u001b[0;34m,\u001b[0m \u001b[0mbias\u001b[0m\u001b[0;34m)\u001b[0m\u001b[0;34m\u001b[0m\u001b[0;34m\u001b[0m\u001b[0m\n\u001b[0m\u001b[1;32m   1849\u001b[0m \u001b[0;34m\u001b[0m\u001b[0m\n\u001b[1;32m   1850\u001b[0m \u001b[0;34m\u001b[0m\u001b[0m\n",
            "\u001b[0;31mRuntimeError\u001b[0m: mat1 and mat2 shapes cannot be multiplied (3584x28 and 784x10)"
          ]
        }
      ]
    },
    {
      "cell_type": "markdown",
      "metadata": {
        "id": "AWHBz1ctrMr1"
      },
      "source": [
        "There is an issue we pass image of 129, 1, 28,28 but model expect the dimension of 128, 784. So we reshape it and pass to the model\n"
      ]
    },
    {
      "cell_type": "code",
      "metadata": {
        "id": "enY0aRJEg8Cm"
      },
      "source": [
        "class MnistModel(nn.Module):\n",
        "  def __init__(self):\n",
        "    super().__init__()      # this implies inheritence concept when extending the class we need to make sure to call\n",
        "                            #super constructor of the class\n",
        "    self.linear = nn.Linear(input_size, num_classes)\n",
        "\n",
        "  def forward(self, xb):   #self is instance of current object and foward method takes a batch of input\n",
        "    xb = xb.reshape(-1, 784)    #why -1 : pytch automatically calculate what the dimension, -1 also helps to generalize the model rather than specific batch_size\n",
        "    out = self.linear(xb)\n",
        "    return out\n",
        "\n",
        "model = MnistModel()"
      ],
      "execution_count": 48,
      "outputs": []
    },
    {
      "cell_type": "code",
      "metadata": {
        "colab": {
          "base_uri": "https://localhost:8080/"
        },
        "id": "YS3w9vLCr0Il",
        "outputId": "c94ffaa6-5d98-4869-e013-19b35ab39ad9"
      },
      "source": [
        "# now weights is lie under the model.linear\n",
        "print(model.linear.weight.shape, model.linear.bias.shape)\n",
        "list(model.parameters())"
      ],
      "execution_count": 49,
      "outputs": [
        {
          "output_type": "stream",
          "name": "stdout",
          "text": [
            "torch.Size([10, 784]) torch.Size([10])\n"
          ]
        },
        {
          "output_type": "execute_result",
          "data": {
            "text/plain": [
              "[Parameter containing:\n",
              " tensor([[-0.0308,  0.0095,  0.0120,  ..., -0.0185,  0.0115, -0.0129],\n",
              "         [ 0.0169, -0.0048,  0.0003,  ...,  0.0333,  0.0024, -0.0092],\n",
              "         [ 0.0185, -0.0201, -0.0131,  ..., -0.0228,  0.0257, -0.0073],\n",
              "         ...,\n",
              "         [ 0.0084,  0.0111,  0.0133,  ...,  0.0344, -0.0094,  0.0151],\n",
              "         [ 0.0301, -0.0129,  0.0322,  ...,  0.0183, -0.0082,  0.0284],\n",
              "         [-0.0211, -0.0310,  0.0325,  ...,  0.0095, -0.0307,  0.0130]],\n",
              "        requires_grad=True), Parameter containing:\n",
              " tensor([-0.0222, -0.0095, -0.0039, -0.0351,  0.0146, -0.0105, -0.0161,  0.0212,\n",
              "          0.0165,  0.0276], requires_grad=True)]"
            ]
          },
          "metadata": {},
          "execution_count": 49
        }
      ]
    },
    {
      "cell_type": "code",
      "metadata": {
        "colab": {
          "base_uri": "https://localhost:8080/"
        },
        "id": "aoD3c-EVtGD6",
        "outputId": "8d9c5a86-574c-472d-ff5a-a6667e43416d"
      },
      "source": [
        "#custom model\n",
        "for images, labels in train_loader:\n",
        "  outputs = model(images)\n",
        "  break\n",
        "\n",
        "print('outputs.shape:', outputs.shape) # we get 10 output for the every image, 10denotes 10 labels \n",
        "print('Sample outputs: \\n', outputs[:2].data)"
      ],
      "execution_count": 52,
      "outputs": [
        {
          "output_type": "stream",
          "name": "stdout",
          "text": [
            "outputs.shape: torch.Size([128, 10])\n",
            "Sample outputs: \n",
            " tensor([[ 0.1442,  0.1066, -0.0389, -0.1106, -0.2843,  0.3006, -0.0392, -0.0411,\n",
            "          0.2727,  0.0396],\n",
            "        [ 0.0672, -0.1909, -0.4370,  0.1933, -0.1580,  0.2246,  0.4317,  0.0846,\n",
            "          0.0264,  0.0652]])\n"
          ]
        }
      ]
    },
    {
      "cell_type": "markdown",
      "metadata": {
        "id": "TjHiyuiru-bf"
      },
      "source": [
        "We need these output as probability and all values lie between 0-1"
      ]
    },
    {
      "cell_type": "code",
      "metadata": {
        "colab": {
          "base_uri": "https://localhost:8080/"
        },
        "id": "LDEEkMy3u9K5",
        "outputId": "222c146d-925b-4c91-a9d6-4f4ddd701566"
      },
      "source": [
        "#to convert output map into probability using softmax that makes everything positive and lies in between 0-1\n",
        "import torch.nn.functional as F\n",
        "\n",
        "#apply softmax for each output row\n",
        "probs = F.softmax(outputs, dim=1)\n",
        "\n",
        "#Look at sample probabilities\n",
        "print(\"sample probabilities: \\n\", probs[:2].data)\n",
        "\n",
        "#add up the probabilities of the output row\n",
        "print(\"sum:\", torch.sum(probs[0]).item()) #sum up to 1"
      ],
      "execution_count": 54,
      "outputs": [
        {
          "output_type": "stream",
          "name": "stdout",
          "text": [
            "sample probabilities: \n",
            " tensor([[0.1100, 0.1059, 0.0916, 0.0852, 0.0716, 0.1286, 0.0915, 0.0914, 0.1251,\n",
            "         0.0991],\n",
            "        [0.1011, 0.0781, 0.0610, 0.1146, 0.0807, 0.1183, 0.1455, 0.1028, 0.0970,\n",
            "         0.1009]])\n",
            "sum: 1.0\n"
          ]
        }
      ]
    },
    {
      "cell_type": "code",
      "metadata": {
        "colab": {
          "base_uri": "https://localhost:8080/"
        },
        "id": "gKtZKdxXtj9C",
        "outputId": "3ca1ba65-33cc-4967-a29e-6b5e156b354c"
      },
      "source": [
        "#each of these probabilities we pick the best one\n",
        "max_probs, preds = torch.max(probs, dim=1)\n",
        "print(preds)\n",
        "print(max_probs)"
      ],
      "execution_count": 55,
      "outputs": [
        {
          "output_type": "stream",
          "name": "stdout",
          "text": [
            "tensor([5, 6, 0, 3, 3, 3, 0, 8, 8, 6, 5, 9, 8, 3, 3, 9, 5, 6, 9, 8, 8, 5, 3, 0,\n",
            "        0, 1, 9, 9, 3, 0, 3, 6, 8, 3, 9, 8, 5, 6, 8, 8, 3, 5, 1, 8, 8, 3, 8, 8,\n",
            "        8, 3, 0, 3, 9, 3, 9, 8, 3, 0, 0, 8, 5, 0, 5, 8, 3, 0, 1, 3, 3, 0, 0, 8,\n",
            "        3, 8, 8, 3, 3, 3, 8, 6, 3, 3, 5, 9, 5, 5, 8, 0, 0, 9, 1, 8, 9, 3, 1, 9,\n",
            "        3, 3, 3, 4, 3, 3, 3, 5, 0, 1, 0, 8, 8, 3, 9, 8, 6, 3, 8, 9, 0, 5, 8, 8,\n",
            "        3, 8, 8, 0, 5, 0, 5, 0])\n",
            "tensor([0.1286, 0.1455, 0.1352, 0.1724, 0.1455, 0.1251, 0.1262, 0.1348, 0.1227,\n",
            "        0.1252, 0.1407, 0.1252, 0.1569, 0.1358, 0.1299, 0.1298, 0.1306, 0.1257,\n",
            "        0.1349, 0.1207, 0.1116, 0.1206, 0.1421, 0.1226, 0.1276, 0.1207, 0.1194,\n",
            "        0.1438, 0.1263, 0.1214, 0.1320, 0.1507, 0.1291, 0.1299, 0.1409, 0.1295,\n",
            "        0.1355, 0.1350, 0.1363, 0.1291, 0.1298, 0.1263, 0.1315, 0.1313, 0.1342,\n",
            "        0.1260, 0.1141, 0.1406, 0.1321, 0.1209, 0.1252, 0.1357, 0.1292, 0.1380,\n",
            "        0.1288, 0.1262, 0.1350, 0.1349, 0.1277, 0.1296, 0.1183, 0.1307, 0.1270,\n",
            "        0.1142, 0.1227, 0.1201, 0.1209, 0.1320, 0.1416, 0.1198, 0.1330, 0.1514,\n",
            "        0.1425, 0.1505, 0.1206, 0.1413, 0.1308, 0.1334, 0.1384, 0.1170, 0.1576,\n",
            "        0.1328, 0.1249, 0.1569, 0.1251, 0.1316, 0.1669, 0.1202, 0.1325, 0.1254,\n",
            "        0.1336, 0.1348, 0.1311, 0.1346, 0.1141, 0.1229, 0.1357, 0.1390, 0.1389,\n",
            "        0.1122, 0.1305, 0.1361, 0.1397, 0.1398, 0.1173, 0.1143, 0.1269, 0.1355,\n",
            "        0.1498, 0.1250, 0.1253, 0.1322, 0.1149, 0.1253, 0.1565, 0.1163, 0.1236,\n",
            "        0.1231, 0.1459, 0.1291, 0.1252, 0.1289, 0.1267, 0.1201, 0.1372, 0.1166,\n",
            "        0.1222, 0.1116], grad_fn=<MaxBackward0>)\n"
          ]
        }
      ]
    },
    {
      "cell_type": "code",
      "metadata": {
        "colab": {
          "base_uri": "https://localhost:8080/"
        },
        "id": "QvIOQT-fwdVL",
        "outputId": "f9ab0adb-2c3f-4ab7-cf4d-1a48226e17ac"
      },
      "source": [
        "#actual labels of the data\n",
        "labels"
      ],
      "execution_count": 56,
      "outputs": [
        {
          "output_type": "execute_result",
          "data": {
            "text/plain": [
              "tensor([1, 0, 5, 2, 9, 8, 3, 9, 4, 5, 8, 6, 5, 9, 4, 2, 8, 7, 9, 9, 3, 7, 9, 5,\n",
              "        7, 1, 2, 8, 5, 7, 9, 6, 5, 7, 3, 5, 9, 8, 3, 4, 6, 1, 1, 2, 5, 0, 2, 7,\n",
              "        3, 0, 9, 9, 3, 7, 0, 3, 3, 9, 8, 6, 9, 6, 3, 2, 0, 5, 1, 6, 2, 9, 1, 8,\n",
              "        0, 3, 4, 6, 4, 7, 4, 6, 9, 7, 1, 3, 6, 7, 5, 5, 1, 3, 1, 3, 5, 9, 1, 9,\n",
              "        0, 9, 6, 7, 9, 6, 0, 6, 1, 7, 9, 3, 5, 3, 3, 2, 6, 4, 8, 7, 1, 1, 5, 6,\n",
              "        0, 8, 3, 1, 4, 4, 9, 1])"
            ]
          },
          "metadata": {},
          "execution_count": 56
        }
      ]
    },
    {
      "cell_type": "markdown",
      "metadata": {
        "id": "lsFRzG9TwyZ8"
      },
      "source": [
        "#Evaluation Metric and Loss Function"
      ]
    },
    {
      "cell_type": "code",
      "metadata": {
        "colab": {
          "base_uri": "https://localhost:8080/"
        },
        "id": "f-Fh0VoyxS6a",
        "outputId": "a5bb83ab-63a9-44ff-e5a6-95e9e58c6d29"
      },
      "source": [
        "#for accurac\n",
        "torch.sum(labels == preds) / len(labels)"
      ],
      "execution_count": 60,
      "outputs": [
        {
          "output_type": "execute_result",
          "data": {
            "text/plain": [
              "tensor(0.1172)"
            ]
          },
          "metadata": {},
          "execution_count": 60
        }
      ]
    },
    {
      "cell_type": "code",
      "metadata": {
        "id": "pVbjSJvpx6wV"
      },
      "source": [
        "def accuracy(l1, l2):\n",
        "  return torch.sum(l1 == l2).item()/ len(l1)"
      ],
      "execution_count": 61,
      "outputs": []
    },
    {
      "cell_type": "code",
      "metadata": {
        "colab": {
          "base_uri": "https://localhost:8080/"
        },
        "id": "IMEh3AwNyFzx",
        "outputId": "c9936c7d-7f28-405c-c5a8-9e2978888b62"
      },
      "source": [
        "accuray = accuracy(preds, labels)\n",
        "accuray"
      ],
      "execution_count": 65,
      "outputs": [
        {
          "output_type": "execute_result",
          "data": {
            "text/plain": [
              "0.1171875"
            ]
          },
          "metadata": {},
          "execution_count": 65
        }
      ]
    },
    {
      "cell_type": "markdown",
      "metadata": {
        "id": "zgJ94AaeycAh"
      },
      "source": [
        "Accuracy is not great way to evaluate a model (never used as a loss function) why?\n",
        "\n",
        "1. its not differentiable function(gradient function uses differentiable function also).\n",
        "torch.max and == both are non differentiable and non-continuous\n",
        "\n",
        "2. it doesnt take into account the actual probabilities predicted by the model. so its cant provide sufficient feedback for incremental improvements\n",
        "\n",
        "thats why accuracy is great evaluation metrics for classification, but not a good loss function"
      ]
    },
    {
      "cell_type": "code",
      "metadata": {
        "colab": {
          "base_uri": "https://localhost:8080/"
        },
        "id": "5GB8ZjMgyMIx",
        "outputId": "c06aa93c-f61b-4807-cccb-e26a40a49d9c"
      },
      "source": [
        " # loss calculation\n",
        " #when x is small\n",
        " x= 0.1\n",
        " [0.1286, 0.1455, 0.1352, 0.1724, 0.1455, 0.1251, 0.1262, 0.1348,]\n",
        " [0,0,1,0,0,0,0,0]\n",
        " import math\n",
        "\n",
        " -math.log(x) #log goes increasing"
      ],
      "execution_count": 68,
      "outputs": [
        {
          "output_type": "execute_result",
          "data": {
            "text/plain": [
              "2.3025850929940455"
            ]
          },
          "metadata": {},
          "execution_count": 68
        }
      ]
    },
    {
      "cell_type": "code",
      "metadata": {
        "colab": {
          "base_uri": "https://localhost:8080/"
        },
        "id": "67jf1Mn70pwW",
        "outputId": "eac5a50e-78aa-4552-c27f-1f3ef0882bb0"
      },
      "source": [
        " #when x is large\n",
        " x= 0.7\n",
        " [0.1286, 0.1455, 0.1352, 0.1724, 0.1455, 0.1251, 0.1262, 0.1348,]\n",
        " [0,0,1,0,0,0,0,0]\n",
        " import math\n",
        "\n",
        " -math.log(x) #log goes descreasing"
      ],
      "execution_count": 69,
      "outputs": [
        {
          "output_type": "execute_result",
          "data": {
            "text/plain": [
              "0.35667494393873245"
            ]
          },
          "metadata": {},
          "execution_count": 69
        }
      ]
    },
    {
      "cell_type": "code",
      "metadata": {
        "id": "UHfvaitg01Bm"
      },
      "source": [
        "#cross entropy is good loss function that is continuous and differentiable and provide good feedback for incremental improvement"
      ],
      "execution_count": 70,
      "outputs": []
    },
    {
      "cell_type": "code",
      "metadata": {
        "id": "bdeDgHxF1fKV"
      },
      "source": [
        "loss_func = F.cross_entropy"
      ],
      "execution_count": 71,
      "outputs": []
    },
    {
      "cell_type": "code",
      "metadata": {
        "colab": {
          "base_uri": "https://localhost:8080/"
        },
        "id": "LE6vHTds1jDk",
        "outputId": "2a6159ed-3f87-44d7-9a0b-8d4e92a7ee08"
      },
      "source": [
        "#loss for current batch of data\n",
        "loss = loss_func(outputs, labels)\n",
        "print(loss)"
      ],
      "execution_count": 72,
      "outputs": [
        {
          "output_type": "stream",
          "name": "stdout",
          "text": [
            "tensor(2.3063, grad_fn=<NllLossBackward0>)\n"
          ]
        }
      ]
    },
    {
      "cell_type": "markdown",
      "metadata": {
        "id": "quNDe02O2jM1"
      },
      "source": [
        "cross entropy is negative logarithm of the predicted probability of the correct label averaged overall training samples\n",
        "\n",
        "Lower the loss, better the model"
      ]
    },
    {
      "cell_type": "markdown",
      "metadata": {
        "id": "DdyWiJFx2cRm"
      },
      "source": [
        "#optimizer\n",
        "\n",
        "update the weights nad bias during the training but with a higher learning rate of 1e-3 "
      ]
    },
    {
      "cell_type": "code",
      "metadata": {
        "id": "W4i1ewO91rr8"
      },
      "source": [
        "learning_rate = 0.01\n",
        "optimizer = torch.optim.SGD(model.parameters(), lr= learning_rate)"
      ],
      "execution_count": 73,
      "outputs": []
    },
    {
      "cell_type": "markdown",
      "metadata": {
        "id": "MhQNgl373qSU"
      },
      "source": [
        "#train the model\n",
        "\n",
        "now we have defines the data loader, model, loss and optimizer, we are ready to train the model. The training process is almost identical to linear regression. However, we'll augment the fit function we defined earlier to evaluate the model's accuracy and loss using the validation set at the end of every epoch"
      ]
    },
    {
      "cell_type": "code",
      "metadata": {
        "id": "UIdpuqnK3mCT"
      },
      "source": [
        "#calculate loss for the batch of data\n",
        "def loss_batch(model, loss_func, xb, yb, opt=None, metric=None):\n",
        "  #claculate loss\n",
        "  preds = model(xb)\n",
        "  loss = loss_func(preds, yb)\n",
        "\n",
        "  if opt is not None:\n",
        "    #compute gradients\n",
        "    loss.backward()\n",
        "    #update parametrs\n",
        "    opt.step()\n",
        "    #reset gradients\n",
        "    opt.zero_grad()\n",
        "\n",
        "  metric_result =None\n",
        "  if metric is not None:\n",
        "    #compute the metric\n",
        "    metric_result = metric(preds, yb)\n",
        "\n",
        "  return loss.item(), len(xb), metric_result\n"
      ],
      "execution_count": 75,
      "outputs": []
    },
    {
      "cell_type": "markdown",
      "metadata": {
        "id": "UYv7wmdc5QRy"
      },
      "source": [
        "#define evaluate function to calculate the overall loss (and a metric, if provided) for the validation set"
      ]
    },
    {
      "cell_type": "code",
      "metadata": {
        "id": "eUBWljRg4tsc"
      },
      "source": [
        "#taking validation data and calculating overall loss and accuracy\n",
        "def evaluate(model, loss_func, valid_dl, metric=None):\n",
        "  with torch.no_grad():  #gradient goes gor gradient descent and it only work for training set\n",
        "    #pass each batch through the model\n",
        "    results = [loss_batch(model, loss_func, xb, yb, metric=metric) for xb, yb in valid_dl]\n",
        "\n",
        "    # Seperate losses, counts and metrics\n",
        "    losses, nums, metrics = zip(*results)\n",
        "    #total size of dataset\n",
        "    total = np.sum(nums)\n",
        "    #Avg. loss across batches\n",
        "    avg_loss = np.sum(np.multiply(losses, nums))/ total #avg loss: (first loss x batch_size + second loss x batch_size + ...) / total sample\n",
        "    avg_metrics = None\n",
        "    if metric is not None:\n",
        "      #Avg of metric across batches\n",
        "      avg_metric = np.sum(np.multiply(metrics, nums)) /total\n",
        "  return avg_loss, total, avg_metric\n"
      ],
      "execution_count": 78,
      "outputs": []
    },
    {
      "cell_type": "code",
      "metadata": {
        "id": "S-QfYH2u6zcM"
      },
      "source": [
        "def accuracy(outputs, labels):\n",
        "  _, preds = torch.max(outputs, dim = 1)\n",
        "  return torch.sum(preds == labels).item() / len(preds)"
      ],
      "execution_count": 79,
      "outputs": []
    },
    {
      "cell_type": "markdown",
      "metadata": {
        "id": "yp0c1pgR8VNq"
      },
      "source": [
        "# we dont need to apply softmax here to the outputs, since it doesnt change the  relative order of the results. This is because e^x is an increasing function i.e., if y_1 >y_2, then e^y1 > e^y2 and same hold true after averaging out the values to get the softmax "
      ]
    },
    {
      "cell_type": "code",
      "metadata": {
        "id": "bvIISAg98Ufr"
      },
      "source": [
        "import numpy as np"
      ],
      "execution_count": 82,
      "outputs": []
    },
    {
      "cell_type": "code",
      "metadata": {
        "colab": {
          "base_uri": "https://localhost:8080/"
        },
        "id": "d4P1eq8J7_Ew",
        "outputId": "60b66795-62ff-45be-9ebb-61f2638a40ca"
      },
      "source": [
        "val_loss, total, val_acc = evaluate(model, loss_func, val_loader, metric= accuracy)\n",
        "print('loss: {: .4f}, Accuracy: {: .4f}'. format(val_loss, val_acc))"
      ],
      "execution_count": 84,
      "outputs": [
        {
          "output_type": "stream",
          "name": "stdout",
          "text": [
            "loss:  2.3264, Accuracy:  0.1034\n"
          ]
        }
      ]
    },
    {
      "cell_type": "markdown",
      "metadata": {
        "id": "4Yd35g8Q9geo"
      },
      "source": [
        "fit function using loss_batch and evaluate"
      ]
    },
    {
      "cell_type": "code",
      "metadata": {
        "id": "ciPsFCD19TeQ"
      },
      "source": [
        "def fit(epochs, model, loss_func, opt, train_dl, valid_dl, metric=None):\n",
        "  for epoch in range(epochs):\n",
        "    #training\n",
        "    for xb, yb in train_dl:\n",
        "      loss, _, _ = loss_batch(model, loss_func, xb, yb, opt)\n",
        "\n",
        "    #evaluation\n",
        "    result = evaluate(model, loss_func, valid_dl, metric)\n",
        "    val_loss, total, val_metric = result\n",
        "\n",
        "    #print progress\n",
        "    if metric is None:\n",
        "      print('Epoch [{}/{}, Loss: {:.4f}'.format(epoch+1, epochs, val_loss))\n",
        "\n",
        "    else:\n",
        "      print('Epoch [{}/{}], Loss: {:.4f}, {}: {:.4f}'. format(epoch+1, epochs, val_loss, metric.__name__, val_loss))"
      ],
      "execution_count": 92,
      "outputs": []
    },
    {
      "cell_type": "code",
      "metadata": {
        "id": "C8VRxLfDAu1r"
      },
      "source": [
        "#redefine model and optimizer\n",
        "model = MnistModel()\n",
        "optimizer = torch.optim.SGD(model.parameters(), lr= learning_rate)"
      ],
      "execution_count": 93,
      "outputs": []
    },
    {
      "cell_type": "code",
      "metadata": {
        "colab": {
          "base_uri": "https://localhost:8080/"
        },
        "id": "Th3AwxM2A0wg",
        "outputId": "13c9d69a-7c13-4a26-b98a-772133ca89c1"
      },
      "source": [
        "fit(5, model, F.cross_entropy, optimizer, train_loader, val_loader, accuracy)"
      ],
      "execution_count": 94,
      "outputs": [
        {
          "output_type": "stream",
          "name": "stdout",
          "text": [
            "Epoch [1/5], Loss: 0.8852, accuracy: 0.8852\n",
            "Epoch [2/5], Loss: 0.6611, accuracy: 0.6611\n",
            "Epoch [3/5], Loss: 0.5703, accuracy: 0.5703\n",
            "Epoch [4/5], Loss: 0.5192, accuracy: 0.5192\n",
            "Epoch [5/5], Loss: 0.4853, accuracy: 0.4853\n"
          ]
        }
      ]
    },
    {
      "cell_type": "code",
      "metadata": {
        "colab": {
          "base_uri": "https://localhost:8080/"
        },
        "id": "vZSfMIDdBHKn",
        "outputId": "1651f1aa-c798-4863-e00f-d4d8f0977e23"
      },
      "source": [
        "fit(5, model, F.cross_entropy, optimizer, train_loader, val_loader, accuracy)"
      ],
      "execution_count": 95,
      "outputs": [
        {
          "output_type": "stream",
          "name": "stdout",
          "text": [
            "Epoch [1/5], Loss: 0.4614, accuracy: 0.4614\n",
            "Epoch [2/5], Loss: 0.4434, accuracy: 0.4434\n",
            "Epoch [3/5], Loss: 0.4289, accuracy: 0.4289\n",
            "Epoch [4/5], Loss: 0.4173, accuracy: 0.4173\n",
            "Epoch [5/5], Loss: 0.4076, accuracy: 0.4076\n"
          ]
        }
      ]
    },
    {
      "cell_type": "code",
      "metadata": {
        "colab": {
          "base_uri": "https://localhost:8080/",
          "height": 295
        },
        "id": "gy8nkDsgBR-m",
        "outputId": "2e54a762-266e-49a9-8fce-f416bf99cb5e"
      },
      "source": [
        "#plot accuracies\n",
        "accuracies = [10, 20]\n",
        "plt.plot(accuracies, '-x')\n",
        "plt.xlabel('epoch')\n",
        "plt.ylabel('accuracy')\n",
        "plt.title('Accuracy vs No. of epochs');"
      ],
      "execution_count": 98,
      "outputs": [
        {
          "output_type": "display_data",
          "data": {
            "image/png": "[encoded data removed]",
            "text/plain": [
              "<Figure size 432x288 with 1 Axes>"
            ]
          },
          "metadata": {
            "needs_background": "light"
          }
        }
      ]
    },
    {
      "cell_type": "markdown",
      "metadata": {
        "id": "p0O8ymMCDNBF"
      },
      "source": [
        "#testing with individual images"
      ]
    },
    {
      "cell_type": "code",
      "metadata": {
        "id": "Gckjb76xC87j"
      },
      "source": [
        "#define test dataset\n",
        "test_dataset = MNIST(root='data/', train= False, transform= transforms.ToTensor())"
      ],
      "execution_count": 99,
      "outputs": []
    },
    {
      "cell_type": "code",
      "metadata": {
        "colab": {
          "base_uri": "https://localhost:8080/"
        },
        "id": "UbLI92jSCUCq",
        "outputId": "c95cb917-78b3-4a53-a410-bcd63e1df466"
      },
      "source": [
        "ls"
      ],
      "execution_count": 100,
      "outputs": [
        {
          "output_type": "stream",
          "name": "stdout",
          "text": [
            "\u001b[0m\u001b[01;34mdata\u001b[0m/  \u001b[01;34msample_data\u001b[0m/\n"
          ]
        }
      ]
    },
    {
      "cell_type": "code",
      "metadata": {
        "colab": {
          "base_uri": "https://localhost:8080/"
        },
        "id": "XLZTOrGMD0qy",
        "outputId": "4b8613dc-a95a-4819-a02b-a70a6b88e52e"
      },
      "source": [
        "ls data/MNIST"
      ],
      "execution_count": 102,
      "outputs": [
        {
          "output_type": "stream",
          "name": "stdout",
          "text": [
            "\u001b[0m\u001b[01;34mraw\u001b[0m/\n"
          ]
        }
      ]
    },
    {
      "cell_type": "code",
      "metadata": {
        "colab": {
          "base_uri": "https://localhost:8080/",
          "height": 302
        },
        "id": "UT4SCUyXD2Li",
        "outputId": "704f9029-ac7e-40bd-c4b0-8501fcb26663"
      },
      "source": [
        "img, label = test_dataset[0]\n",
        "plt.imshow(img[0], cmap='gray')\n",
        "print('Shape:', img.shape)\n",
        "print('Label:', label)"
      ],
      "execution_count": 104,
      "outputs": [
        {
          "output_type": "stream",
          "name": "stdout",
          "text": [
            "Shape: torch.Size([1, 28, 28])\n",
            "Label: 7\n"
          ]
        },
        {
          "output_type": "display_data",
          "data": {
            "image/png": "[encoded data removed]",
            "text/plain": [
              "<Figure size 432x288 with 1 Axes>"
            ]
          },
          "metadata": {
            "needs_background": "light"
          }
        }
      ]
    },
    {
      "cell_type": "code",
      "metadata": {
        "colab": {
          "base_uri": "https://localhost:8080/"
        },
        "id": "jqAjS0OkEKBa",
        "outputId": "ee2c5bfb-c61e-4809-b8a5-b69406cddc99"
      },
      "source": [
        "#create a batch of test images and perform prediction\n",
        "#for batch we unsqueeze the tensor and expand the dimension (1x28x28) tensor to (1x1x28x28)\n",
        "img.unsqueeze(0).shape\n"
      ],
      "execution_count": 107,
      "outputs": [
        {
          "output_type": "execute_result",
          "data": {
            "text/plain": [
              "torch.Size([1, 1, 28, 28])"
            ]
          },
          "metadata": {},
          "execution_count": 107
        }
      ]
    },
    {
      "cell_type": "code",
      "metadata": {
        "id": "2BEiczBUEurB"
      },
      "source": [
        "def predict_image(img, model):\n",
        "  xb = img.unsqueeze(0)\n",
        "  yb = model(xb)\n",
        "  _, preds = torch.max(yb, dim = 1)\n",
        "  return preds[0].item()"
      ],
      "execution_count": 108,
      "outputs": []
    },
    {
      "cell_type": "code",
      "metadata": {
        "colab": {
          "base_uri": "https://localhost:8080/",
          "height": 283
        },
        "id": "RwaygQ6cE9nj",
        "outputId": "6a8efcbc-467b-433f-b966-59ed9f57c12c"
      },
      "source": [
        "img, label = test_dataset[0]\n",
        "plt.imshow(img[0], cmap = 'gray')\n",
        "print('label:', label, 'predicted:', predict_image(img, model))"
      ],
      "execution_count": 109,
      "outputs": [
        {
          "output_type": "stream",
          "name": "stdout",
          "text": [
            "label: 7 predicted: 7\n"
          ]
        },
        {
          "output_type": "display_data",
          "data": {
            "image/png": "[encoded data removed]",
            "text/plain": [
              "<Figure size 432x288 with 1 Axes>"
            ]
          },
          "metadata": {
            "needs_background": "light"
          }
        }
      ]
    },
    {
      "cell_type": "code",
      "metadata": {
        "colab": {
          "base_uri": "https://localhost:8080/"
        },
        "id": "Vgyyj6MEFf4P",
        "outputId": "1ea05541-c96e-4b2a-ffce-ae3654eb71db"
      },
      "source": [
        "# test the overall loss and accuracy of the model\n",
        "test_loader = DataLoader(test_dataset, batch_size=200)\n",
        "\n",
        "test_loss, total, test_acc = evaluate(model, loss_func, test_loader, metric= accuracy)\n",
        "print('Loss: {:.4f}, Accuracy: {:.4f}'.format(test_loss, test_acc))"
      ],
      "execution_count": 112,
      "outputs": [
        {
          "output_type": "stream",
          "name": "stdout",
          "text": [
            "Loss: 0.3950, Accuracy: 0.8971\n"
          ]
        }
      ]
    },
    {
      "cell_type": "markdown",
      "metadata": {
        "id": "lrup96M0GiVF"
      },
      "source": [
        "#Saving and loading model "
      ]
    },
    {
      "cell_type": "code",
      "metadata": {
        "id": "AgWCHj5PGWTf"
      },
      "source": [
        "torch.save(model.state_dict(), 'mnist-logistic.pth')"
      ],
      "execution_count": 113,
      "outputs": []
    },
    {
      "cell_type": "code",
      "metadata": {
        "colab": {
          "base_uri": "https://localhost:8080/"
        },
        "id": "ut-fPmXfGxk0",
        "outputId": "96c2cb69-98b5-4bbd-8ab5-764e155b62bb"
      },
      "source": [
        "model.state_dict()"
      ],
      "execution_count": 114,
      "outputs": [
        {
          "output_type": "execute_result",
          "data": {
            "text/plain": [
              "OrderedDict([('linear.weight',\n",
              "              tensor([[ 0.0242,  0.0101, -0.0232,  ...,  0.0083,  0.0249,  0.0097],\n",
              "                      [ 0.0342,  0.0259,  0.0028,  ...,  0.0044,  0.0300,  0.0142],\n",
              "                      [ 0.0215, -0.0065, -0.0044,  ..., -0.0246, -0.0089, -0.0186],\n",
              "                      ...,\n",
              "                      [ 0.0021, -0.0287, -0.0331,  ..., -0.0067, -0.0012,  0.0056],\n",
              "                      [-0.0187, -0.0219, -0.0284,  ...,  0.0047, -0.0161,  0.0111],\n",
              "                      [ 0.0045, -0.0311,  0.0208,  ..., -0.0110,  0.0254,  0.0293]])),\n",
              "             ('linear.bias',\n",
              "              tensor([-0.0580,  0.1533, -0.0369, -0.0544,  0.0510,  0.2314, -0.0499,  0.1461,\n",
              "                      -0.2854, -0.0730]))])"
            ]
          },
          "metadata": {},
          "execution_count": 114
        }
      ]
    },
    {
      "cell_type": "code",
      "metadata": {
        "colab": {
          "base_uri": "https://localhost:8080/"
        },
        "id": "m1os5UAIG0RJ",
        "outputId": "e2438ffd-8e7f-4843-904e-38563acb1990"
      },
      "source": [
        "model2 = MnistModel()\n",
        "model2.load_state_dict(torch.load('mnist-logistic.pth'))\n",
        "model2.state_dict()"
      ],
      "execution_count": 115,
      "outputs": [
        {
          "output_type": "execute_result",
          "data": {
            "text/plain": [
              "OrderedDict([('linear.weight',\n",
              "              tensor([[ 0.0242,  0.0101, -0.0232,  ...,  0.0083,  0.0249,  0.0097],\n",
              "                      [ 0.0342,  0.0259,  0.0028,  ...,  0.0044,  0.0300,  0.0142],\n",
              "                      [ 0.0215, -0.0065, -0.0044,  ..., -0.0246, -0.0089, -0.0186],\n",
              "                      ...,\n",
              "                      [ 0.0021, -0.0287, -0.0331,  ..., -0.0067, -0.0012,  0.0056],\n",
              "                      [-0.0187, -0.0219, -0.0284,  ...,  0.0047, -0.0161,  0.0111],\n",
              "                      [ 0.0045, -0.0311,  0.0208,  ..., -0.0110,  0.0254,  0.0293]])),\n",
              "             ('linear.bias',\n",
              "              tensor([-0.0580,  0.1533, -0.0369, -0.0544,  0.0510,  0.2314, -0.0499,  0.1461,\n",
              "                      -0.2854, -0.0730]))])"
            ]
          },
          "metadata": {},
          "execution_count": 115
        }
      ]
    },
    {
      "cell_type": "markdown",
      "metadata": {
        "id": "z5Fg-VUXHuuV"
      },
      "source": [
        "#both savin and loading have same value"
      ]
    },
    {
      "cell_type": "code",
      "metadata": {
        "colab": {
          "base_uri": "https://localhost:8080/"
        },
        "id": "bXqupQh-HF-b",
        "outputId": "94620fda-55ed-49d9-87ed-ca16afecbb6d"
      },
      "source": [
        "test_loss, btotal, test_acc = evaluate(model, loss_func, test_loader, metric=accuracy)\n",
        "print('Loss: {:.4f}, Accuracy: {:.4f}'.format(test_loss, test_acc))"
      ],
      "execution_count": 116,
      "outputs": [
        {
          "output_type": "stream",
          "name": "stdout",
          "text": [
            "Loss: 0.3950, Accuracy: 0.8971\n"
          ]
        }
      ]
    },
    {
      "cell_type": "code",
      "metadata": {
        "id": "MpEkkquOHggM"
      },
      "source": [
        ""
      ],
      "execution_count": null,
      "outputs": []
    }
  ]
}