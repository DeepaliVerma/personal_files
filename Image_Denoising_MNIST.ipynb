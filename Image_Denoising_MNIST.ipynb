{
  "nbformat": 4,
  "nbformat_minor": 0,
  "metadata": {
    "colab": {
      "name": "Image Denoising_MNIST.ipynb",
      "provenance": [],
      "authorship_tag": "ABX9TyM5hUUdgHww+78qpPse7s9U",
      "include_colab_link": true
    },
    "kernelspec": {
      "name": "python3",
      "display_name": "Python 3"
    },
    "language_info": {
      "name": "python"
    }
  },
  "cells": [
    {
      "cell_type": "markdown",
      "metadata": {
        "id": "view-in-github",
        "colab_type": "text"
      },
      "source": [
        "<a href=\"https://colab.research.google.com/github/DeepaliVerma/personal_files/blob/main/Image_Denoising_MNIST.ipynb\" target=\"_parent\"><img src=\"https://colab.research.google.com/assets/colab-badge.svg\" alt=\"Open In Colab\"/></a>"
      ]
    },
    {
      "cell_type": "markdown",
      "metadata": {
        "id": "SStG0hKFhJB0"
      },
      "source": [
        "https://github.com/abhirooptalasila/ML-Projects/tree/master/Image%20Denoising%20using%20Convolutional%20Autoencoders"
      ]
    },
    {
      "cell_type": "code",
      "metadata": {
        "id": "BfNd_RaddnDG"
      },
      "source": [
        "import os\n",
        "import numpy as np\n",
        "import pandas as pd\n",
        "from tensorflow.keras.layers import Input, Dense, Conv2D, MaxPooling2D, UpSampling2D\n",
        "from tensorflow.keras.models import Model\n",
        "from tensorflow.keras.datasets import mnist\n",
        "from tensorflow.keras.callbacks import EarlyStopping\n",
        "\n",
        "import matplotlib.pyplot as plt"
      ],
      "execution_count": 1,
      "outputs": []
    },
    {
      "cell_type": "code",
      "metadata": {
        "colab": {
          "base_uri": "https://localhost:8080/"
        },
        "id": "xE5uiKaYdtkh",
        "outputId": "71ad4817-d216-4998-b0a5-50c6d51d5ad5"
      },
      "source": [
        "(x_train, _), (x_test, _) = mnist.load_data()\n",
        "\n",
        "x_train = x_train.astype('float32') / 255.\n",
        "x_test = x_test.astype('float32') / 255.\n",
        "x_train = np.reshape(x_train, (len(x_train), 28, 28, 1))  \n",
        "x_test = np.reshape(x_test, (len(x_test), 28, 28, 1))"
      ],
      "execution_count": 2,
      "outputs": [
        {
          "output_type": "stream",
          "text": [
            "Downloading data from https://storage.googleapis.com/tensorflow/tf-keras-datasets/mnist.npz\n",
            "11493376/11490434 [==============================] - 0s 0us/step\n"
          ],
          "name": "stdout"
        }
      ]
    },
    {
      "cell_type": "code",
      "metadata": {
        "id": "jkUrvoa5dwXL"
      },
      "source": [
        "#add noises\n",
        "noise_factor = 0.5\n",
        "x_train_noisy = x_train + noise_factor * np.random.normal(loc=0.0, scale=1.0, size=x_train.shape) \n",
        "x_test_noisy = x_test + noise_factor * np.random.normal(loc=0.0, scale=1.0, size=x_test.shape) \n",
        "\n",
        "x_train_noisy = np.clip(x_train_noisy, 0., 1.)\n",
        "x_test_noisy = np.clip(x_test_noisy, 0., 1.)"
      ],
      "execution_count": 3,
      "outputs": []
    },
    {
      "cell_type": "code",
      "metadata": {
        "colab": {
          "base_uri": "https://localhost:8080/",
          "height": 129
        },
        "id": "8j_eMqQTd1Ep",
        "outputId": "2e46532c-fce2-4cc0-ada9-a2e7d9fc1f39"
      },
      "source": [
        "#plot noisy data\n",
        "n = 10\n",
        "plt.figure(figsize=(20, 2))\n",
        "for i in range(1,n):\n",
        "    ax = plt.subplot(1, n, i)\n",
        "    plt.imshow(x_test_noisy[i].reshape(28, 28))\n",
        "    plt.gray()\n",
        "    ax.get_xaxis().set_visible(False)\n",
        "    ax.get_yaxis().set_visible(False)\n",
        "plt.show()"
      ],
      "execution_count": 5,
      "outputs": [
        {
          "output_type": "display_data",
          "data": {
            "image/png": "[encoded data removed]",
            "text/plain": [
              "<Figure size 1440x144 with 9 Axes>"
            ]
          },
          "metadata": {
            "tags": [],
            "needs_background": "light"
          }
        }
      ]
    },
    {
      "cell_type": "code",
      "metadata": {
        "colab": {
          "base_uri": "https://localhost:8080/"
        },
        "id": "HxQXIGA8d3OK",
        "outputId": "5581e8fc-82c3-467a-fcea-4ed42ed9cec4"
      },
      "source": [
        "#model\n",
        "input_img = Input(shape=(28, 28, 1))  \n",
        "\n",
        "x = Conv2D(32, (3, 3), activation='relu', padding='same', strides=2)(input_img)\n",
        "# x = MaxPooling2D((2, 2), padding='same')(x)\n",
        "x = Conv2D(32, (3, 3), activation='relu', padding='same',  strides=2)(x)\n",
        "# encoded = MaxPooling2D((2, 2), padding='same')(x)\n",
        "\n",
        "# at this point the representation is (7, 7, 32)\n",
        "\n",
        "x = Conv2D(32, (3, 3), activation='relu', padding='same')(x)\n",
        "x = UpSampling2D((2, 2))(x)\n",
        "x = Conv2D(32, (3, 3), activation='relu', padding='same')(x)\n",
        "x = UpSampling2D((2, 2))(x)\n",
        "decoded = Conv2D(1, (3, 3), activation='sigmoid', padding='same')(x)\n",
        "\n",
        "autoencoder = Model(input_img, decoded)\n",
        "autoencoder.summary()"
      ],
      "execution_count": 11,
      "outputs": [
        {
          "output_type": "stream",
          "text": [
            "Model: \"model_1\"\n",
            "_________________________________________________________________\n",
            "Layer (type)                 Output Shape              Param #   \n",
            "=================================================================\n",
            "input_2 (InputLayer)         [(None, 28, 28, 1)]       0         \n",
            "_________________________________________________________________\n",
            "conv2d_5 (Conv2D)            (None, 14, 14, 32)        320       \n",
            "_________________________________________________________________\n",
            "conv2d_6 (Conv2D)            (None, 7, 7, 32)          9248      \n",
            "_________________________________________________________________\n",
            "conv2d_7 (Conv2D)            (None, 7, 7, 32)          9248      \n",
            "_________________________________________________________________\n",
            "up_sampling2d_2 (UpSampling2 (None, 14, 14, 32)        0         \n",
            "_________________________________________________________________\n",
            "conv2d_8 (Conv2D)            (None, 14, 14, 32)        9248      \n",
            "_________________________________________________________________\n",
            "up_sampling2d_3 (UpSampling2 (None, 28, 28, 32)        0         \n",
            "_________________________________________________________________\n",
            "conv2d_9 (Conv2D)            (None, 28, 28, 1)         289       \n",
            "=================================================================\n",
            "Total params: 28,353\n",
            "Trainable params: 28,353\n",
            "Non-trainable params: 0\n",
            "_________________________________________________________________\n"
          ],
          "name": "stdout"
        }
      ]
    },
    {
      "cell_type": "code",
      "metadata": {
        "colab": {
          "base_uri": "https://localhost:8080/"
        },
        "id": "B7uyvirUeAdq",
        "outputId": "0a391a8d-1e26-4a69-cc48-ebb9ad7acc0b"
      },
      "source": [
        "#compile and Fit\n",
        "autoencoder.compile(optimizer='adam', loss='binary_crossentropy', metrics=['acc'])\n",
        "\n",
        "early = EarlyStopping(monitor=\"val_loss\", mode=\"min\", patience=5)\n",
        "\n",
        "history = autoencoder.fit(x_train_noisy, x_train,\n",
        "                epochs=50,\n",
        "                batch_size=128,\n",
        "                shuffle=True,\n",
        "                validation_data=(x_test_noisy, x_test),\n",
        "                callbacks=[early])"
      ],
      "execution_count": 12,
      "outputs": [
        {
          "output_type": "stream",
          "text": [
            "Epoch 1/50\n",
            "469/469 [==============================] - 99s 209ms/step - loss: 0.1563 - acc: 0.8088 - val_loss: 0.1119 - val_acc: 0.8103\n",
            "Epoch 2/50\n",
            "469/469 [==============================] - 100s 214ms/step - loss: 0.1095 - acc: 0.8118 - val_loss: 0.1055 - val_acc: 0.8114\n",
            "Epoch 3/50\n",
            "469/469 [==============================] - 101s 216ms/step - loss: 0.1050 - acc: 0.8124 - val_loss: 0.1026 - val_acc: 0.8116\n",
            "Epoch 4/50\n",
            "469/469 [==============================] - 101s 216ms/step - loss: 0.1027 - acc: 0.8127 - val_loss: 0.1010 - val_acc: 0.8120\n",
            "Epoch 5/50\n",
            "469/469 [==============================] - 101s 215ms/step - loss: 0.1012 - acc: 0.8129 - val_loss: 0.0999 - val_acc: 0.8122\n",
            "Epoch 6/50\n",
            "469/469 [==============================] - 101s 216ms/step - loss: 0.1003 - acc: 0.8130 - val_loss: 0.0995 - val_acc: 0.8124\n",
            "Epoch 7/50\n",
            "469/469 [==============================] - 101s 214ms/step - loss: 0.0996 - acc: 0.8131 - val_loss: 0.0984 - val_acc: 0.8122\n",
            "Epoch 8/50\n",
            "469/469 [==============================] - 100s 214ms/step - loss: 0.0991 - acc: 0.8131 - val_loss: 0.0984 - val_acc: 0.8126\n",
            "Epoch 9/50\n",
            "469/469 [==============================] - 100s 214ms/step - loss: 0.0986 - acc: 0.8132 - val_loss: 0.0976 - val_acc: 0.8121\n",
            "Epoch 10/50\n",
            "469/469 [==============================] - 101s 215ms/step - loss: 0.0981 - acc: 0.8132 - val_loss: 0.0973 - val_acc: 0.8124\n",
            "Epoch 11/50\n",
            "469/469 [==============================] - 101s 215ms/step - loss: 0.0978 - acc: 0.8133 - val_loss: 0.0970 - val_acc: 0.8122\n",
            "Epoch 12/50\n",
            "469/469 [==============================] - 101s 216ms/step - loss: 0.0975 - acc: 0.8133 - val_loss: 0.0967 - val_acc: 0.8122\n",
            "Epoch 13/50\n",
            "469/469 [==============================] - 101s 215ms/step - loss: 0.0972 - acc: 0.8133 - val_loss: 0.0967 - val_acc: 0.8120\n",
            "Epoch 14/50\n",
            "469/469 [==============================] - 101s 216ms/step - loss: 0.0969 - acc: 0.8134 - val_loss: 0.0965 - val_acc: 0.8127\n",
            "Epoch 15/50\n",
            "469/469 [==============================] - 101s 216ms/step - loss: 0.0968 - acc: 0.8134 - val_loss: 0.0962 - val_acc: 0.8122\n",
            "Epoch 16/50\n",
            "469/469 [==============================] - 101s 216ms/step - loss: 0.0965 - acc: 0.8134 - val_loss: 0.0959 - val_acc: 0.8123\n",
            "Epoch 17/50\n",
            "469/469 [==============================] - 101s 215ms/step - loss: 0.0963 - acc: 0.8134 - val_loss: 0.0958 - val_acc: 0.8126\n",
            "Epoch 18/50\n",
            "469/469 [==============================] - 101s 215ms/step - loss: 0.0962 - acc: 0.8134 - val_loss: 0.0957 - val_acc: 0.8126\n",
            "Epoch 19/50\n",
            "469/469 [==============================] - 101s 215ms/step - loss: 0.0960 - acc: 0.8135 - val_loss: 0.0955 - val_acc: 0.8125\n",
            "Epoch 20/50\n",
            "469/469 [==============================] - 101s 216ms/step - loss: 0.0959 - acc: 0.8135 - val_loss: 0.0956 - val_acc: 0.8122\n",
            "Epoch 21/50\n",
            "469/469 [==============================] - 100s 214ms/step - loss: 0.0958 - acc: 0.8135 - val_loss: 0.0958 - val_acc: 0.8129\n",
            "Epoch 22/50\n",
            "469/469 [==============================] - 100s 214ms/step - loss: 0.0957 - acc: 0.8135 - val_loss: 0.0956 - val_acc: 0.8122\n",
            "Epoch 23/50\n",
            "469/469 [==============================] - 100s 213ms/step - loss: 0.0956 - acc: 0.8135 - val_loss: 0.0954 - val_acc: 0.8127\n",
            "Epoch 24/50\n",
            "469/469 [==============================] - 100s 213ms/step - loss: 0.0955 - acc: 0.8135 - val_loss: 0.0952 - val_acc: 0.8123\n",
            "Epoch 25/50\n",
            "469/469 [==============================] - 100s 214ms/step - loss: 0.0954 - acc: 0.8135 - val_loss: 0.0950 - val_acc: 0.8125\n",
            "Epoch 26/50\n",
            "469/469 [==============================] - 100s 214ms/step - loss: 0.0954 - acc: 0.8135 - val_loss: 0.0953 - val_acc: 0.8128\n",
            "Epoch 27/50\n",
            "469/469 [==============================] - 100s 214ms/step - loss: 0.0953 - acc: 0.8135 - val_loss: 0.0949 - val_acc: 0.8125\n",
            "Epoch 28/50\n",
            "469/469 [==============================] - 100s 214ms/step - loss: 0.0952 - acc: 0.8135 - val_loss: 0.0950 - val_acc: 0.8127\n",
            "Epoch 29/50\n",
            "469/469 [==============================] - 100s 214ms/step - loss: 0.0951 - acc: 0.8136 - val_loss: 0.0949 - val_acc: 0.8125\n",
            "Epoch 30/50\n",
            "469/469 [==============================] - 100s 214ms/step - loss: 0.0951 - acc: 0.8136 - val_loss: 0.0948 - val_acc: 0.8126\n",
            "Epoch 31/50\n",
            "469/469 [==============================] - 100s 214ms/step - loss: 0.0951 - acc: 0.8136 - val_loss: 0.0949 - val_acc: 0.8124\n",
            "Epoch 32/50\n",
            "469/469 [==============================] - 100s 213ms/step - loss: 0.0950 - acc: 0.8136 - val_loss: 0.0948 - val_acc: 0.8127\n",
            "Epoch 33/50\n",
            "469/469 [==============================] - 100s 213ms/step - loss: 0.0949 - acc: 0.8136 - val_loss: 0.0949 - val_acc: 0.8123\n",
            "Epoch 34/50\n",
            "469/469 [==============================] - 101s 214ms/step - loss: 0.0949 - acc: 0.8136 - val_loss: 0.0947 - val_acc: 0.8125\n",
            "Epoch 35/50\n",
            "469/469 [==============================] - 100s 213ms/step - loss: 0.0949 - acc: 0.8136 - val_loss: 0.0947 - val_acc: 0.8127\n",
            "Epoch 36/50\n",
            "469/469 [==============================] - 100s 214ms/step - loss: 0.0948 - acc: 0.8136 - val_loss: 0.0947 - val_acc: 0.8124\n",
            "Epoch 37/50\n",
            "469/469 [==============================] - 100s 214ms/step - loss: 0.0948 - acc: 0.8136 - val_loss: 0.0946 - val_acc: 0.8126\n",
            "Epoch 38/50\n",
            "469/469 [==============================] - 100s 214ms/step - loss: 0.0948 - acc: 0.8136 - val_loss: 0.0948 - val_acc: 0.8128\n",
            "Epoch 39/50\n",
            "469/469 [==============================] - 100s 213ms/step - loss: 0.0947 - acc: 0.8136 - val_loss: 0.0945 - val_acc: 0.8125\n",
            "Epoch 40/50\n",
            "469/469 [==============================] - 100s 214ms/step - loss: 0.0947 - acc: 0.8136 - val_loss: 0.0945 - val_acc: 0.8127\n",
            "Epoch 41/50\n",
            "469/469 [==============================] - 100s 214ms/step - loss: 0.0947 - acc: 0.8136 - val_loss: 0.0948 - val_acc: 0.8123\n",
            "Epoch 42/50\n",
            "469/469 [==============================] - 100s 213ms/step - loss: 0.0946 - acc: 0.8136 - val_loss: 0.0945 - val_acc: 0.8125\n",
            "Epoch 43/50\n",
            "469/469 [==============================] - 100s 213ms/step - loss: 0.0946 - acc: 0.8136 - val_loss: 0.0946 - val_acc: 0.8128\n",
            "Epoch 44/50\n",
            "469/469 [==============================] - 100s 213ms/step - loss: 0.0945 - acc: 0.8136 - val_loss: 0.0943 - val_acc: 0.8126\n",
            "Epoch 45/50\n",
            "469/469 [==============================] - 99s 210ms/step - loss: 0.0945 - acc: 0.8136 - val_loss: 0.0943 - val_acc: 0.8127\n",
            "Epoch 46/50\n",
            "469/469 [==============================] - 99s 211ms/step - loss: 0.0945 - acc: 0.8136 - val_loss: 0.0943 - val_acc: 0.8128\n",
            "Epoch 47/50\n",
            "469/469 [==============================] - 99s 211ms/step - loss: 0.0944 - acc: 0.8136 - val_loss: 0.0943 - val_acc: 0.8126\n",
            "Epoch 48/50\n",
            "469/469 [==============================] - 99s 211ms/step - loss: 0.0944 - acc: 0.8136 - val_loss: 0.0942 - val_acc: 0.8125\n",
            "Epoch 49/50\n",
            "469/469 [==============================] - 99s 212ms/step - loss: 0.0944 - acc: 0.8136 - val_loss: 0.0945 - val_acc: 0.8123\n",
            "Epoch 50/50\n",
            "469/469 [==============================] - 99s 210ms/step - loss: 0.0944 - acc: 0.8136 - val_loss: 0.0943 - val_acc: 0.8127\n"
          ],
          "name": "stdout"
        }
      ]
    },
    {
      "cell_type": "code",
      "metadata": {
        "colab": {
          "base_uri": "https://localhost:8080/",
          "height": 581
        },
        "id": "xnYI39d8eFTh",
        "outputId": "432fdce1-3e87-43bb-b1ee-a505b0c4c941"
      },
      "source": [
        "#plot accuracy and loss curves\n",
        "\n",
        "def plot_history(history):\n",
        "  acc = history.history['acc']\n",
        "  val_acc = history.history['val_acc']\n",
        "  loss = history.history['loss']\n",
        "  val_loss = history.history['val_loss']\n",
        "\n",
        "  epochs = range(len(acc))\n",
        "\n",
        "  plt.plot(epochs, acc, 'r', label='Training accuracy')\n",
        "  plt.plot(epochs, val_acc, 'b', label='Validation accuracy')\n",
        "  plt.title('Training and validation accuracy')\n",
        "  plt.legend(loc=0)\n",
        "  plt.figure()\n",
        "  plt.show()\n",
        "  plt.plot(epochs, loss, 'r', label='Training loss')\n",
        "  plt.plot(epochs, val_loss, 'b', label='Validation loss')\n",
        "  plt.title('Training and validation loss')\n",
        "  plt.legend(loc=0)\n",
        "  plt.figure()\n",
        "  plt.show()\n",
        "\n",
        "plot_history(history)"
      ],
      "execution_count": 13,
      "outputs": [
        {
          "output_type": "display_data",
          "data": {
            "image/png": "[encoded data removed]",
            "text/plain": [
              "<Figure size 432x288 with 1 Axes>"
            ]
          },
          "metadata": {
            "tags": [],
            "needs_background": "light"
          }
        },
        {
          "output_type": "display_data",
          "data": {
            "text/plain": [
              "<Figure size 432x288 with 0 Axes>"
            ]
          },
          "metadata": {
            "tags": []
          }
        },
        {
          "output_type": "display_data",
          "data": {
            "image/png": "[encoded data removed]",
            "text/plain": [
              "<Figure size 432x288 with 1 Axes>"
            ]
          },
          "metadata": {
            "tags": [],
            "needs_background": "light"
          }
        },
        {
          "output_type": "display_data",
          "data": {
            "text/plain": [
              "<Figure size 432x288 with 0 Axes>"
            ]
          },
          "metadata": {
            "tags": []
          }
        }
      ]
    },
    {
      "cell_type": "code",
      "metadata": {
        "id": "TEg9ahb1eKhJ"
      },
      "source": [
        "#predict on sample\n",
        "\n",
        "test_img = np.expand_dims(x_test_noisy[0].reshape(28, 28, 1), axis=0)\n",
        "img_pred = autoencoder.predict(test_img)"
      ],
      "execution_count": 14,
      "outputs": []
    },
    {
      "cell_type": "code",
      "metadata": {
        "colab": {
          "base_uri": "https://localhost:8080/",
          "height": 513
        },
        "id": "9BL1uSyWeQon",
        "outputId": "3f902b49-7961-4e51-f1e1-0374df0ec082"
      },
      "source": [
        "%matplotlib inline \n",
        "\n",
        "plt.imshow(np.squeeze(x_test_noisy[0].reshape(28, 28, 1)), interpolation='nearest')\n",
        "plt.show()\n",
        "plt.imshow(np.squeeze(img_pred), interpolation='nearest')\n",
        "plt.show()"
      ],
      "execution_count": 15,
      "outputs": [
        {
          "output_type": "display_data",
          "data": {
            "image/png": "[encoded data removed]",
            "text/plain": [
              "<Figure size 432x288 with 1 Axes>"
            ]
          },
          "metadata": {
            "tags": [],
            "needs_background": "light"
          }
        },
        {
          "output_type": "display_data",
          "data": {
            "image/png": "[encoded data removed]",
            "text/plain": [
              "<Figure size 432x288 with 1 Axes>"
            ]
          },
          "metadata": {
            "tags": [],
            "needs_background": "light"
          }
        }
      ]
    },
    {
      "cell_type": "code",
      "metadata": {
        "id": "UKKJ87TceRLm"
      },
      "source": [
        ""
      ],
      "execution_count": null,
      "outputs": []
    }
  ]
}